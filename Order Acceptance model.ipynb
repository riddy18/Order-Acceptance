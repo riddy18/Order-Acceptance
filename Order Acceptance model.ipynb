{
 "cells": [
  {
   "cell_type": "markdown",
   "metadata": {},
   "source": [
    "# Goal of the project (for reference)"
   ]
  },
  {
   "cell_type": "markdown",
   "metadata": {},
   "source": [
    "As an Associated Data Scientist, you will be joining a team who is on a mission to disrupt the logistics\n",
    "industry by using statistical knowledge with machine learning plus other algorithmic techniques to drive\n",
    "business impact and take our technology to new heights with data science. For this interview project,\n",
    "you will be asked to play the role of an associate data scientist taking the hypothetical scenario below\n",
    "and transforming it into a model to automate the manual order acceptance process at C.H. Robinson."
   ]
  },
  {
   "cell_type": "markdown",
   "metadata": {},
   "source": [
    "# Data and Notebook Setup"
   ]
  },
  {
   "cell_type": "markdown",
   "metadata": {},
   "source": [
    "Summary: The data has a shape (161563, 16) with 161563 rows and 16 columns. The CurrentCondition column has 8 categories including 'Accepted' and 'Rejected'. It also has a category called 'nan' which might be orders with unknown current condition category."
   ]
  },
  {
   "cell_type": "code",
   "execution_count": 1,
   "metadata": {},
   "outputs": [],
   "source": [
    "# import data\n",
    "import pandas as pd\n",
    "order_acceptance_df = pd.read_csv('IMA Recommendation Simulation Data.csv')"
   ]
  },
  {
   "cell_type": "code",
   "execution_count": 2,
   "metadata": {},
   "outputs": [
    {
     "data": {
      "text/html": [
       "<div>\n",
       "<style scoped>\n",
       "    .dataframe tbody tr th:only-of-type {\n",
       "        vertical-align: middle;\n",
       "    }\n",
       "\n",
       "    .dataframe tbody tr th {\n",
       "        vertical-align: top;\n",
       "    }\n",
       "\n",
       "    .dataframe thead th {\n",
       "        text-align: right;\n",
       "    }\n",
       "</style>\n",
       "<table border=\"1\" class=\"dataframe\">\n",
       "  <thead>\n",
       "    <tr style=\"text-align: right;\">\n",
       "      <th></th>\n",
       "      <th>Unnamed: 0</th>\n",
       "      <th>request_id</th>\n",
       "      <th>week_id</th>\n",
       "      <th>weekday</th>\n",
       "      <th>miles</th>\n",
       "      <th>order_equipment_type</th>\n",
       "      <th>order_distance</th>\n",
       "      <th>order_num_stops</th>\n",
       "      <th>order_origin_weight</th>\n",
       "      <th>lead_days</th>\n",
       "      <th>color</th>\n",
       "      <th>origin_dat_ref</th>\n",
       "      <th>dest_dat_ref</th>\n",
       "      <th>rate_norm</th>\n",
       "      <th>est_cost_norm</th>\n",
       "      <th>CurrentCondition</th>\n",
       "    </tr>\n",
       "  </thead>\n",
       "  <tbody>\n",
       "    <tr>\n",
       "      <th>0</th>\n",
       "      <td>0</td>\n",
       "      <td>c2653eda11cd4d94879d1946392eb2b5</td>\n",
       "      <td>4</td>\n",
       "      <td>Sat</td>\n",
       "      <td>1856</td>\n",
       "      <td>V</td>\n",
       "      <td>1848.0</td>\n",
       "      <td>2</td>\n",
       "      <td>40000.0</td>\n",
       "      <td>3</td>\n",
       "      <td>RED</td>\n",
       "      <td>633</td>\n",
       "      <td>978</td>\n",
       "      <td>2.273442</td>\n",
       "      <td>2.138631</td>\n",
       "      <td>Accepted</td>\n",
       "    </tr>\n",
       "    <tr>\n",
       "      <th>1</th>\n",
       "      <td>1</td>\n",
       "      <td>65e3dcc84a2246e68ea8636a967b31b2</td>\n",
       "      <td>3</td>\n",
       "      <td>Mon</td>\n",
       "      <td>56</td>\n",
       "      <td>V</td>\n",
       "      <td>47.0</td>\n",
       "      <td>2</td>\n",
       "      <td>12729.0</td>\n",
       "      <td>3</td>\n",
       "      <td>RED</td>\n",
       "      <td>604</td>\n",
       "      <td>604</td>\n",
       "      <td>-0.971030</td>\n",
       "      <td>-1.017024</td>\n",
       "      <td>Rejected</td>\n",
       "    </tr>\n",
       "    <tr>\n",
       "      <th>2</th>\n",
       "      <td>2</td>\n",
       "      <td>0a86f005640a4204b46c95ca033a7ced</td>\n",
       "      <td>1</td>\n",
       "      <td>Fri</td>\n",
       "      <td>259</td>\n",
       "      <td>V</td>\n",
       "      <td>255.0</td>\n",
       "      <td>2</td>\n",
       "      <td>44176.0</td>\n",
       "      <td>3</td>\n",
       "      <td>RED</td>\n",
       "      <td>761</td>\n",
       "      <td>770</td>\n",
       "      <td>-0.393352</td>\n",
       "      <td>-0.475805</td>\n",
       "      <td>Accepted</td>\n",
       "    </tr>\n",
       "    <tr>\n",
       "      <th>3</th>\n",
       "      <td>3</td>\n",
       "      <td>1105b4bc7b444f7985d4ad810e7acbc2</td>\n",
       "      <td>3</td>\n",
       "      <td>Thu</td>\n",
       "      <td>71</td>\n",
       "      <td>V</td>\n",
       "      <td>68.0</td>\n",
       "      <td>2</td>\n",
       "      <td>39847.0</td>\n",
       "      <td>6</td>\n",
       "      <td>RED</td>\n",
       "      <td>187</td>\n",
       "      <td>180</td>\n",
       "      <td>-0.706546</td>\n",
       "      <td>-0.765855</td>\n",
       "      <td>Rejected</td>\n",
       "    </tr>\n",
       "    <tr>\n",
       "      <th>4</th>\n",
       "      <td>4</td>\n",
       "      <td>de538100bb0f4137961b9551640ef35e</td>\n",
       "      <td>3</td>\n",
       "      <td>Fri</td>\n",
       "      <td>1182</td>\n",
       "      <td>R</td>\n",
       "      <td>1183.0</td>\n",
       "      <td>2</td>\n",
       "      <td>34912.0</td>\n",
       "      <td>3</td>\n",
       "      <td>GREEN</td>\n",
       "      <td>972</td>\n",
       "      <td>922</td>\n",
       "      <td>1.014233</td>\n",
       "      <td>0.469273</td>\n",
       "      <td>Accepted</td>\n",
       "    </tr>\n",
       "    <tr>\n",
       "      <th>...</th>\n",
       "      <td>...</td>\n",
       "      <td>...</td>\n",
       "      <td>...</td>\n",
       "      <td>...</td>\n",
       "      <td>...</td>\n",
       "      <td>...</td>\n",
       "      <td>...</td>\n",
       "      <td>...</td>\n",
       "      <td>...</td>\n",
       "      <td>...</td>\n",
       "      <td>...</td>\n",
       "      <td>...</td>\n",
       "      <td>...</td>\n",
       "      <td>...</td>\n",
       "      <td>...</td>\n",
       "      <td>...</td>\n",
       "    </tr>\n",
       "    <tr>\n",
       "      <th>161558</th>\n",
       "      <td>161558</td>\n",
       "      <td>a15fa8bdb9924162999c502997b80ad2</td>\n",
       "      <td>4</td>\n",
       "      <td>Thu</td>\n",
       "      <td>274</td>\n",
       "      <td>V</td>\n",
       "      <td>0.0</td>\n",
       "      <td>2</td>\n",
       "      <td>44084.0</td>\n",
       "      <td>1</td>\n",
       "      <td>GREEN</td>\n",
       "      <td>170</td>\n",
       "      <td>119</td>\n",
       "      <td>0.791117</td>\n",
       "      <td>-0.045967</td>\n",
       "      <td>Accepted</td>\n",
       "    </tr>\n",
       "    <tr>\n",
       "      <th>161559</th>\n",
       "      <td>161559</td>\n",
       "      <td>151354fa712049f1a6d1644ec17878f9</td>\n",
       "      <td>4</td>\n",
       "      <td>Tue</td>\n",
       "      <td>213</td>\n",
       "      <td>V</td>\n",
       "      <td>201.0</td>\n",
       "      <td>2</td>\n",
       "      <td>43500.0</td>\n",
       "      <td>7</td>\n",
       "      <td>YELLOW</td>\n",
       "      <td>57</td>\n",
       "      <td>132</td>\n",
       "      <td>-0.189311</td>\n",
       "      <td>-0.223419</td>\n",
       "      <td>Rejected</td>\n",
       "    </tr>\n",
       "    <tr>\n",
       "      <th>161560</th>\n",
       "      <td>161560</td>\n",
       "      <td>fa71111ad30d492683f9a6a5fbc9f07e</td>\n",
       "      <td>4</td>\n",
       "      <td>Tue</td>\n",
       "      <td>300</td>\n",
       "      <td>V</td>\n",
       "      <td>308.0</td>\n",
       "      <td>2</td>\n",
       "      <td>43500.0</td>\n",
       "      <td>3</td>\n",
       "      <td>GREEN</td>\n",
       "      <td>551</td>\n",
       "      <td>527</td>\n",
       "      <td>-0.709962</td>\n",
       "      <td>-0.658659</td>\n",
       "      <td>Accepted</td>\n",
       "    </tr>\n",
       "    <tr>\n",
       "      <th>161561</th>\n",
       "      <td>161561</td>\n",
       "      <td>22de0c744a4741c2a1f14bf4a520a3c0</td>\n",
       "      <td>4</td>\n",
       "      <td>Wed</td>\n",
       "      <td>2209</td>\n",
       "      <td>V</td>\n",
       "      <td>2213.0</td>\n",
       "      <td>2</td>\n",
       "      <td>8280.0</td>\n",
       "      <td>12</td>\n",
       "      <td>GREEN</td>\n",
       "      <td>490</td>\n",
       "      <td>945</td>\n",
       "      <td>2.681378</td>\n",
       "      <td>1.530088</td>\n",
       "      <td>Accepted</td>\n",
       "    </tr>\n",
       "    <tr>\n",
       "      <th>161562</th>\n",
       "      <td>161562</td>\n",
       "      <td>e602d6de21394bf9a7bbd78d32f1d1d2</td>\n",
       "      <td>3</td>\n",
       "      <td>Mon</td>\n",
       "      <td>418</td>\n",
       "      <td>V</td>\n",
       "      <td>410.0</td>\n",
       "      <td>2</td>\n",
       "      <td>44797.0</td>\n",
       "      <td>4</td>\n",
       "      <td>RED</td>\n",
       "      <td>378</td>\n",
       "      <td>283</td>\n",
       "      <td>-0.278688</td>\n",
       "      <td>-0.034213</td>\n",
       "      <td>Rejected</td>\n",
       "    </tr>\n",
       "  </tbody>\n",
       "</table>\n",
       "<p>161563 rows × 16 columns</p>\n",
       "</div>"
      ],
      "text/plain": [
       "        Unnamed: 0                        request_id  week_id weekday  miles  \\\n",
       "0                0  c2653eda11cd4d94879d1946392eb2b5        4     Sat   1856   \n",
       "1                1  65e3dcc84a2246e68ea8636a967b31b2        3     Mon     56   \n",
       "2                2  0a86f005640a4204b46c95ca033a7ced        1     Fri    259   \n",
       "3                3  1105b4bc7b444f7985d4ad810e7acbc2        3     Thu     71   \n",
       "4                4  de538100bb0f4137961b9551640ef35e        3     Fri   1182   \n",
       "...            ...                               ...      ...     ...    ...   \n",
       "161558      161558  a15fa8bdb9924162999c502997b80ad2        4     Thu    274   \n",
       "161559      161559  151354fa712049f1a6d1644ec17878f9        4     Tue    213   \n",
       "161560      161560  fa71111ad30d492683f9a6a5fbc9f07e        4     Tue    300   \n",
       "161561      161561  22de0c744a4741c2a1f14bf4a520a3c0        4     Wed   2209   \n",
       "161562      161562  e602d6de21394bf9a7bbd78d32f1d1d2        3     Mon    418   \n",
       "\n",
       "       order_equipment_type  order_distance  order_num_stops  \\\n",
       "0                         V          1848.0                2   \n",
       "1                         V            47.0                2   \n",
       "2                         V           255.0                2   \n",
       "3                         V            68.0                2   \n",
       "4                         R          1183.0                2   \n",
       "...                     ...             ...              ...   \n",
       "161558                    V             0.0                2   \n",
       "161559                    V           201.0                2   \n",
       "161560                    V           308.0                2   \n",
       "161561                    V          2213.0                2   \n",
       "161562                    V           410.0                2   \n",
       "\n",
       "        order_origin_weight  lead_days   color  origin_dat_ref  dest_dat_ref  \\\n",
       "0                   40000.0          3     RED             633           978   \n",
       "1                   12729.0          3     RED             604           604   \n",
       "2                   44176.0          3     RED             761           770   \n",
       "3                   39847.0          6     RED             187           180   \n",
       "4                   34912.0          3   GREEN             972           922   \n",
       "...                     ...        ...     ...             ...           ...   \n",
       "161558              44084.0          1   GREEN             170           119   \n",
       "161559              43500.0          7  YELLOW              57           132   \n",
       "161560              43500.0          3   GREEN             551           527   \n",
       "161561               8280.0         12   GREEN             490           945   \n",
       "161562              44797.0          4     RED             378           283   \n",
       "\n",
       "        rate_norm  est_cost_norm CurrentCondition  \n",
       "0        2.273442       2.138631         Accepted  \n",
       "1       -0.971030      -1.017024         Rejected  \n",
       "2       -0.393352      -0.475805         Accepted  \n",
       "3       -0.706546      -0.765855         Rejected  \n",
       "4        1.014233       0.469273         Accepted  \n",
       "...           ...            ...              ...  \n",
       "161558   0.791117      -0.045967         Accepted  \n",
       "161559  -0.189311      -0.223419         Rejected  \n",
       "161560  -0.709962      -0.658659         Accepted  \n",
       "161561   2.681378       1.530088         Accepted  \n",
       "161562  -0.278688      -0.034213         Rejected  \n",
       "\n",
       "[161563 rows x 16 columns]"
      ]
     },
     "execution_count": 2,
     "metadata": {},
     "output_type": "execute_result"
    }
   ],
   "source": [
    "order_acceptance_df"
   ]
  },
  {
   "cell_type": "code",
   "execution_count": 3,
   "metadata": {},
   "outputs": [
    {
     "name": "stdout",
     "output_type": "stream",
     "text": [
      "(161563, 16)\n"
     ]
    }
   ],
   "source": [
    "# shape of the data\n",
    "print(order_acceptance_df.shape)"
   ]
  },
  {
   "cell_type": "code",
   "execution_count": 4,
   "metadata": {},
   "outputs": [
    {
     "data": {
      "text/plain": [
       "array(['Accepted', 'Rejected', 'Withdrawn', 'Waiting On Acceptance',\n",
       "       'Cancelled', nan, 'Waiting On Recommendation', 'NoPace'],\n",
       "      dtype=object)"
      ]
     },
     "execution_count": 4,
     "metadata": {},
     "output_type": "execute_result"
    }
   ],
   "source": [
    "# unique categories for CurrentCondition\n",
    "order_acceptance_df['CurrentCondition'].unique()"
   ]
  },
  {
   "cell_type": "code",
   "execution_count": 5,
   "metadata": {},
   "outputs": [
    {
     "data": {
      "text/plain": [
       "8"
      ]
     },
     "execution_count": 5,
     "metadata": {},
     "output_type": "execute_result"
    }
   ],
   "source": [
    "# number of categories for CurrentCondition\n",
    "len(order_acceptance_df['CurrentCondition'].unique())"
   ]
  },
  {
   "cell_type": "markdown",
   "metadata": {},
   "source": [
    "# Exploratory Data Analysis"
   ]
  },
  {
   "cell_type": "markdown",
   "metadata": {},
   "source": [
    "Summary: It does not seem 'request_id' is unique, so it cannot be a primary key by itself. There are five columns with missing values. Two pairs of highly correlated features in the dataset are 'miles'/'order_distance' and 'rate_norm/est_cost_norm'."
   ]
  },
  {
   "cell_type": "code",
   "execution_count": 6,
   "metadata": {},
   "outputs": [
    {
     "data": {
      "text/plain": [
       "False"
      ]
     },
     "execution_count": 6,
     "metadata": {},
     "output_type": "execute_result"
    }
   ],
   "source": [
    "# is request_id unique?\n",
    "pd.Series(order_acceptance_df[\"request_id\"]).is_unique"
   ]
  },
  {
   "cell_type": "code",
   "execution_count": 7,
   "metadata": {},
   "outputs": [
    {
     "data": {
      "text/plain": [
       "Unnamed: 0                 0\n",
       "request_id                 0\n",
       "week_id                    0\n",
       "weekday                    0\n",
       "miles                      0\n",
       "order_equipment_type       0\n",
       "order_distance          4678\n",
       "order_num_stops            0\n",
       "order_origin_weight       19\n",
       "lead_days                  0\n",
       "color                      0\n",
       "origin_dat_ref             0\n",
       "dest_dat_ref               0\n",
       "rate_norm                181\n",
       "est_cost_norm             39\n",
       "CurrentCondition         118\n",
       "dtype: int64"
      ]
     },
     "execution_count": 7,
     "metadata": {},
     "output_type": "execute_result"
    }
   ],
   "source": [
    "# Is there any missing data in this data set? If so, which columns have missing data?\n",
    "order_acceptance_df.isnull().sum()"
   ]
  },
  {
   "cell_type": "markdown",
   "metadata": {},
   "source": [
    "It appears five columns have missing values. Those include order_distance, order_origin_weight, rate_norm, est_cost_norm, and CurrentCondition"
   ]
  },
  {
   "cell_type": "code",
   "execution_count": 8,
   "metadata": {},
   "outputs": [],
   "source": [
    "# The first column is dropped since it was lkely added when the data was saved and adds nothing to the analysis.\n",
    "order_acceptance_df.drop('Unnamed: 0', axis=1, inplace=True)"
   ]
  },
  {
   "cell_type": "code",
   "execution_count": 9,
   "metadata": {},
   "outputs": [
    {
     "data": {
      "text/html": [
       "<div>\n",
       "<style scoped>\n",
       "    .dataframe tbody tr th:only-of-type {\n",
       "        vertical-align: middle;\n",
       "    }\n",
       "\n",
       "    .dataframe tbody tr th {\n",
       "        vertical-align: top;\n",
       "    }\n",
       "\n",
       "    .dataframe thead th {\n",
       "        text-align: right;\n",
       "    }\n",
       "</style>\n",
       "<table border=\"1\" class=\"dataframe\">\n",
       "  <thead>\n",
       "    <tr style=\"text-align: right;\">\n",
       "      <th></th>\n",
       "      <th>week_id</th>\n",
       "      <th>miles</th>\n",
       "      <th>order_distance</th>\n",
       "      <th>order_num_stops</th>\n",
       "      <th>order_origin_weight</th>\n",
       "      <th>lead_days</th>\n",
       "      <th>origin_dat_ref</th>\n",
       "      <th>dest_dat_ref</th>\n",
       "      <th>rate_norm</th>\n",
       "      <th>est_cost_norm</th>\n",
       "    </tr>\n",
       "  </thead>\n",
       "  <tbody>\n",
       "    <tr>\n",
       "      <th>week_id</th>\n",
       "      <td>1.000000</td>\n",
       "      <td>-0.019201</td>\n",
       "      <td>-0.019802</td>\n",
       "      <td>-0.009899</td>\n",
       "      <td>-0.000422</td>\n",
       "      <td>0.007609</td>\n",
       "      <td>-0.001539</td>\n",
       "      <td>-0.010358</td>\n",
       "      <td>0.022749</td>\n",
       "      <td>-0.036973</td>\n",
       "    </tr>\n",
       "    <tr>\n",
       "      <th>miles</th>\n",
       "      <td>-0.019201</td>\n",
       "      <td>1.000000</td>\n",
       "      <td>0.982291</td>\n",
       "      <td>0.057819</td>\n",
       "      <td>-0.012212</td>\n",
       "      <td>0.025197</td>\n",
       "      <td>0.069189</td>\n",
       "      <td>0.248031</td>\n",
       "      <td>0.697896</td>\n",
       "      <td>0.742555</td>\n",
       "    </tr>\n",
       "    <tr>\n",
       "      <th>order_distance</th>\n",
       "      <td>-0.019802</td>\n",
       "      <td>0.982291</td>\n",
       "      <td>1.000000</td>\n",
       "      <td>NaN</td>\n",
       "      <td>-0.009852</td>\n",
       "      <td>0.027990</td>\n",
       "      <td>0.066862</td>\n",
       "      <td>0.246584</td>\n",
       "      <td>0.689225</td>\n",
       "      <td>0.730472</td>\n",
       "    </tr>\n",
       "    <tr>\n",
       "      <th>order_num_stops</th>\n",
       "      <td>-0.009899</td>\n",
       "      <td>0.057819</td>\n",
       "      <td>NaN</td>\n",
       "      <td>1.000000</td>\n",
       "      <td>-0.025359</td>\n",
       "      <td>0.037197</td>\n",
       "      <td>0.004474</td>\n",
       "      <td>-0.004028</td>\n",
       "      <td>0.061158</td>\n",
       "      <td>0.108425</td>\n",
       "    </tr>\n",
       "    <tr>\n",
       "      <th>order_origin_weight</th>\n",
       "      <td>-0.000422</td>\n",
       "      <td>-0.012212</td>\n",
       "      <td>-0.009852</td>\n",
       "      <td>-0.025359</td>\n",
       "      <td>1.000000</td>\n",
       "      <td>0.009731</td>\n",
       "      <td>-0.004263</td>\n",
       "      <td>-0.003545</td>\n",
       "      <td>-0.010642</td>\n",
       "      <td>-0.013850</td>\n",
       "    </tr>\n",
       "    <tr>\n",
       "      <th>lead_days</th>\n",
       "      <td>0.007609</td>\n",
       "      <td>0.025197</td>\n",
       "      <td>0.027990</td>\n",
       "      <td>0.037197</td>\n",
       "      <td>0.009731</td>\n",
       "      <td>1.000000</td>\n",
       "      <td>0.017822</td>\n",
       "      <td>-0.004046</td>\n",
       "      <td>-0.005291</td>\n",
       "      <td>-0.003025</td>\n",
       "    </tr>\n",
       "    <tr>\n",
       "      <th>origin_dat_ref</th>\n",
       "      <td>-0.001539</td>\n",
       "      <td>0.069189</td>\n",
       "      <td>0.066862</td>\n",
       "      <td>0.004474</td>\n",
       "      <td>-0.004263</td>\n",
       "      <td>0.017822</td>\n",
       "      <td>1.000000</td>\n",
       "      <td>0.623976</td>\n",
       "      <td>-0.000007</td>\n",
       "      <td>-0.000004</td>\n",
       "    </tr>\n",
       "    <tr>\n",
       "      <th>dest_dat_ref</th>\n",
       "      <td>-0.010358</td>\n",
       "      <td>0.248031</td>\n",
       "      <td>0.246584</td>\n",
       "      <td>-0.004028</td>\n",
       "      <td>-0.003545</td>\n",
       "      <td>-0.004046</td>\n",
       "      <td>0.623976</td>\n",
       "      <td>1.000000</td>\n",
       "      <td>0.061579</td>\n",
       "      <td>0.048371</td>\n",
       "    </tr>\n",
       "    <tr>\n",
       "      <th>rate_norm</th>\n",
       "      <td>0.022749</td>\n",
       "      <td>0.697896</td>\n",
       "      <td>0.689225</td>\n",
       "      <td>0.061158</td>\n",
       "      <td>-0.010642</td>\n",
       "      <td>-0.005291</td>\n",
       "      <td>-0.000007</td>\n",
       "      <td>0.061579</td>\n",
       "      <td>1.000000</td>\n",
       "      <td>0.803012</td>\n",
       "    </tr>\n",
       "    <tr>\n",
       "      <th>est_cost_norm</th>\n",
       "      <td>-0.036973</td>\n",
       "      <td>0.742555</td>\n",
       "      <td>0.730472</td>\n",
       "      <td>0.108425</td>\n",
       "      <td>-0.013850</td>\n",
       "      <td>-0.003025</td>\n",
       "      <td>-0.000004</td>\n",
       "      <td>0.048371</td>\n",
       "      <td>0.803012</td>\n",
       "      <td>1.000000</td>\n",
       "    </tr>\n",
       "  </tbody>\n",
       "</table>\n",
       "</div>"
      ],
      "text/plain": [
       "                      week_id     miles  order_distance  order_num_stops  \\\n",
       "week_id              1.000000 -0.019201       -0.019802        -0.009899   \n",
       "miles               -0.019201  1.000000        0.982291         0.057819   \n",
       "order_distance      -0.019802  0.982291        1.000000              NaN   \n",
       "order_num_stops     -0.009899  0.057819             NaN         1.000000   \n",
       "order_origin_weight -0.000422 -0.012212       -0.009852        -0.025359   \n",
       "lead_days            0.007609  0.025197        0.027990         0.037197   \n",
       "origin_dat_ref      -0.001539  0.069189        0.066862         0.004474   \n",
       "dest_dat_ref        -0.010358  0.248031        0.246584        -0.004028   \n",
       "rate_norm            0.022749  0.697896        0.689225         0.061158   \n",
       "est_cost_norm       -0.036973  0.742555        0.730472         0.108425   \n",
       "\n",
       "                     order_origin_weight  lead_days  origin_dat_ref  \\\n",
       "week_id                        -0.000422   0.007609       -0.001539   \n",
       "miles                          -0.012212   0.025197        0.069189   \n",
       "order_distance                 -0.009852   0.027990        0.066862   \n",
       "order_num_stops                -0.025359   0.037197        0.004474   \n",
       "order_origin_weight             1.000000   0.009731       -0.004263   \n",
       "lead_days                       0.009731   1.000000        0.017822   \n",
       "origin_dat_ref                 -0.004263   0.017822        1.000000   \n",
       "dest_dat_ref                   -0.003545  -0.004046        0.623976   \n",
       "rate_norm                      -0.010642  -0.005291       -0.000007   \n",
       "est_cost_norm                  -0.013850  -0.003025       -0.000004   \n",
       "\n",
       "                     dest_dat_ref  rate_norm  est_cost_norm  \n",
       "week_id                 -0.010358   0.022749      -0.036973  \n",
       "miles                    0.248031   0.697896       0.742555  \n",
       "order_distance           0.246584   0.689225       0.730472  \n",
       "order_num_stops         -0.004028   0.061158       0.108425  \n",
       "order_origin_weight     -0.003545  -0.010642      -0.013850  \n",
       "lead_days               -0.004046  -0.005291      -0.003025  \n",
       "origin_dat_ref           0.623976  -0.000007      -0.000004  \n",
       "dest_dat_ref             1.000000   0.061579       0.048371  \n",
       "rate_norm                0.061579   1.000000       0.803012  \n",
       "est_cost_norm            0.048371   0.803012       1.000000  "
      ]
     },
     "execution_count": 9,
     "metadata": {},
     "output_type": "execute_result"
    }
   ],
   "source": [
    "# Are there any features you would consider highly correlated?  \n",
    "order_acceptance_df.corr()"
   ]
  },
  {
   "cell_type": "code",
   "execution_count": 10,
   "metadata": {},
   "outputs": [
    {
     "data": {
      "text/plain": [
       "<AxesSubplot:>"
      ]
     },
     "execution_count": 10,
     "metadata": {},
     "output_type": "execute_result"
    },
    {
     "data": {
      "image/png": "[encoded data removed]",
      "text/plain": [
       "<Figure size 864x720 with 2 Axes>"
      ]
     },
     "metadata": {
      "needs_background": "light"
     },
     "output_type": "display_data"
    }
   ],
   "source": [
    "# Visualize the pair-wise correlation of the columns using pearson coefficient and displaying it using a heatmap\n",
    "import numpy as np\n",
    "import matplotlib.pyplot as plt\n",
    "import seaborn as sns\n",
    "order_corr = order_acceptance_df.corr()\n",
    "f, ax = plt.subplots(figsize=(12, 10))\n",
    "mask = np.triu(np.ones_like(order_corr, dtype=bool))\n",
    "cmap = sns.diverging_palette(230, 20, as_cmap=True)\n",
    "sns.heatmap(order_corr, annot=True, mask = mask, cmap=cmap)"
   ]
  },
  {
   "cell_type": "markdown",
   "metadata": {},
   "source": [
    "The correlation table shows correlation between the pairs of columns with a high positive correlation (0.98) between 'order_distance' and 'miles'. The heatmap also shows this relationship. There is also a high correlation between 'rate_norm' and 'est_cost_norm'. Highly correlated features can hurt the model especially in a linear model"
   ]
  },
  {
   "cell_type": "code",
   "execution_count": 11,
   "metadata": {},
   "outputs": [],
   "source": [
    "# View the distribution of the days of week for order requests\n",
    "a = order_acceptance_df.groupby(\"weekday\")[\"request_id\"].count()"
   ]
  },
  {
   "cell_type": "code",
   "execution_count": 12,
   "metadata": {},
   "outputs": [
    {
     "data": {
      "text/plain": [
       "weekday\n",
       "Fri    31400\n",
       "Mon    31795\n",
       "Sat     1486\n",
       "Sun      836\n",
       "Thu    33734\n",
       "Tue    31257\n",
       "Wed    31055\n",
       "Name: request_id, dtype: int64"
      ]
     },
     "execution_count": 12,
     "metadata": {},
     "output_type": "execute_result"
    }
   ],
   "source": [
    "a"
   ]
  },
  {
   "cell_type": "code",
   "execution_count": 13,
   "metadata": {},
   "outputs": [
    {
     "data": {
      "text/plain": [
       "<AxesSubplot:xlabel='weekday'>"
      ]
     },
     "execution_count": 13,
     "metadata": {},
     "output_type": "execute_result"
    },
    {
     "data": {
      "image/png": "[encoded data removed]",
      "text/plain": [
       "<Figure size 432x288 with 1 Axes>"
      ]
     },
     "metadata": {
      "needs_background": "light"
     },
     "output_type": "display_data"
    }
   ],
   "source": [
    "a.plot()"
   ]
  },
  {
   "cell_type": "markdown",
   "metadata": {},
   "source": [
    "The line chart above shows that there is a huge decline in orders requested on Saturday and Sunday. It does not show a marked difference in the requests made during the week. The same plot is shown below as a bar chart."
   ]
  },
  {
   "cell_type": "code",
   "execution_count": 14,
   "metadata": {},
   "outputs": [
    {
     "data": {
      "text/plain": [
       "<AxesSubplot:xlabel='weekday'>"
      ]
     },
     "execution_count": 14,
     "metadata": {},
     "output_type": "execute_result"
    },
    {
     "data": {
      "image/png": "[encoded data removed]",
      "text/plain": [
       "<Figure size 432x288 with 1 Axes>"
      ]
     },
     "metadata": {
      "needs_background": "light"
     },
     "output_type": "display_data"
    }
   ],
   "source": [
    "a.plot(kind = 'bar')"
   ]
  },
  {
   "cell_type": "code",
   "execution_count": 15,
   "metadata": {},
   "outputs": [],
   "source": [
    "order_pie_chart = order_acceptance_df['CurrentCondition'].value_counts()"
   ]
  },
  {
   "cell_type": "code",
   "execution_count": 16,
   "metadata": {},
   "outputs": [
    {
     "data": {
      "text/plain": [
       "Accepted                     96165\n",
       "Rejected                     37143\n",
       "Withdrawn                    23800\n",
       "Cancelled                     3388\n",
       "Waiting On Acceptance          800\n",
       "Waiting On Recommendation       95\n",
       "NoPace                          54\n",
       "Name: CurrentCondition, dtype: int64"
      ]
     },
     "execution_count": 16,
     "metadata": {},
     "output_type": "execute_result"
    }
   ],
   "source": [
    "order_pie_chart"
   ]
  },
  {
   "cell_type": "code",
   "execution_count": 17,
   "metadata": {},
   "outputs": [
    {
     "data": {
      "text/plain": [
       "<AxesSubplot:ylabel='CurrentCondition'>"
      ]
     },
     "execution_count": 17,
     "metadata": {},
     "output_type": "execute_result"
    },
    {
     "data": {
      "image/png": "[encoded data removed]",
      "text/plain": [
       "<Figure size 432x288 with 1 Axes>"
      ]
     },
     "metadata": {},
     "output_type": "display_data"
    }
   ],
   "source": [
    "order_pie_chart.plot(kind = 'pie')"
   ]
  },
  {
   "cell_type": "markdown",
   "metadata": {},
   "source": [
    "The pie chart shows that about 60% of the orders are marked as accepted. I would think this is a fair representation of the distribution of data and it does not skew towards any category. This means that the model trained on this data has a better chance to generalize well on newer data samples."
   ]
  },
  {
   "cell_type": "markdown",
   "metadata": {},
   "source": [
    "# Data cleaning"
   ]
  },
  {
   "cell_type": "code",
   "execution_count": 18,
   "metadata": {},
   "outputs": [],
   "source": [
    "# drop the null values.\n",
    "order_acceptance_df1 = order_acceptance_df.dropna()"
   ]
  },
  {
   "cell_type": "code",
   "execution_count": 19,
   "metadata": {},
   "outputs": [],
   "source": [
    "# convert the categorical variables into numerical values for modeling\n",
    "categorical_cols = ['weekday', 'order_equipment_type', 'color']\n",
    "\n",
    "order_acceptance_df2 = pd.get_dummies(order_acceptance_df1, columns = categorical_cols)"
   ]
  },
  {
   "cell_type": "code",
   "execution_count": 20,
   "metadata": {},
   "outputs": [
    {
     "data": {
      "text/html": [
       "<div>\n",
       "<style scoped>\n",
       "    .dataframe tbody tr th:only-of-type {\n",
       "        vertical-align: middle;\n",
       "    }\n",
       "\n",
       "    .dataframe tbody tr th {\n",
       "        vertical-align: top;\n",
       "    }\n",
       "\n",
       "    .dataframe thead th {\n",
       "        text-align: right;\n",
       "    }\n",
       "</style>\n",
       "<table border=\"1\" class=\"dataframe\">\n",
       "  <thead>\n",
       "    <tr style=\"text-align: right;\">\n",
       "      <th></th>\n",
       "      <th>request_id</th>\n",
       "      <th>week_id</th>\n",
       "      <th>miles</th>\n",
       "      <th>order_distance</th>\n",
       "      <th>order_num_stops</th>\n",
       "      <th>order_origin_weight</th>\n",
       "      <th>lead_days</th>\n",
       "      <th>origin_dat_ref</th>\n",
       "      <th>dest_dat_ref</th>\n",
       "      <th>rate_norm</th>\n",
       "      <th>...</th>\n",
       "      <th>weekday_Sat</th>\n",
       "      <th>weekday_Sun</th>\n",
       "      <th>weekday_Thu</th>\n",
       "      <th>weekday_Tue</th>\n",
       "      <th>weekday_Wed</th>\n",
       "      <th>order_equipment_type_R</th>\n",
       "      <th>order_equipment_type_V</th>\n",
       "      <th>color_GREEN</th>\n",
       "      <th>color_RED</th>\n",
       "      <th>color_YELLOW</th>\n",
       "    </tr>\n",
       "  </thead>\n",
       "  <tbody>\n",
       "    <tr>\n",
       "      <th>0</th>\n",
       "      <td>c2653eda11cd4d94879d1946392eb2b5</td>\n",
       "      <td>4</td>\n",
       "      <td>1856</td>\n",
       "      <td>1848.0</td>\n",
       "      <td>2</td>\n",
       "      <td>40000.0</td>\n",
       "      <td>3</td>\n",
       "      <td>633</td>\n",
       "      <td>978</td>\n",
       "      <td>2.273442</td>\n",
       "      <td>...</td>\n",
       "      <td>1</td>\n",
       "      <td>0</td>\n",
       "      <td>0</td>\n",
       "      <td>0</td>\n",
       "      <td>0</td>\n",
       "      <td>0</td>\n",
       "      <td>1</td>\n",
       "      <td>0</td>\n",
       "      <td>1</td>\n",
       "      <td>0</td>\n",
       "    </tr>\n",
       "    <tr>\n",
       "      <th>1</th>\n",
       "      <td>65e3dcc84a2246e68ea8636a967b31b2</td>\n",
       "      <td>3</td>\n",
       "      <td>56</td>\n",
       "      <td>47.0</td>\n",
       "      <td>2</td>\n",
       "      <td>12729.0</td>\n",
       "      <td>3</td>\n",
       "      <td>604</td>\n",
       "      <td>604</td>\n",
       "      <td>-0.971030</td>\n",
       "      <td>...</td>\n",
       "      <td>0</td>\n",
       "      <td>0</td>\n",
       "      <td>0</td>\n",
       "      <td>0</td>\n",
       "      <td>0</td>\n",
       "      <td>0</td>\n",
       "      <td>1</td>\n",
       "      <td>0</td>\n",
       "      <td>1</td>\n",
       "      <td>0</td>\n",
       "    </tr>\n",
       "    <tr>\n",
       "      <th>2</th>\n",
       "      <td>0a86f005640a4204b46c95ca033a7ced</td>\n",
       "      <td>1</td>\n",
       "      <td>259</td>\n",
       "      <td>255.0</td>\n",
       "      <td>2</td>\n",
       "      <td>44176.0</td>\n",
       "      <td>3</td>\n",
       "      <td>761</td>\n",
       "      <td>770</td>\n",
       "      <td>-0.393352</td>\n",
       "      <td>...</td>\n",
       "      <td>0</td>\n",
       "      <td>0</td>\n",
       "      <td>0</td>\n",
       "      <td>0</td>\n",
       "      <td>0</td>\n",
       "      <td>0</td>\n",
       "      <td>1</td>\n",
       "      <td>0</td>\n",
       "      <td>1</td>\n",
       "      <td>0</td>\n",
       "    </tr>\n",
       "    <tr>\n",
       "      <th>3</th>\n",
       "      <td>1105b4bc7b444f7985d4ad810e7acbc2</td>\n",
       "      <td>3</td>\n",
       "      <td>71</td>\n",
       "      <td>68.0</td>\n",
       "      <td>2</td>\n",
       "      <td>39847.0</td>\n",
       "      <td>6</td>\n",
       "      <td>187</td>\n",
       "      <td>180</td>\n",
       "      <td>-0.706546</td>\n",
       "      <td>...</td>\n",
       "      <td>0</td>\n",
       "      <td>0</td>\n",
       "      <td>1</td>\n",
       "      <td>0</td>\n",
       "      <td>0</td>\n",
       "      <td>0</td>\n",
       "      <td>1</td>\n",
       "      <td>0</td>\n",
       "      <td>1</td>\n",
       "      <td>0</td>\n",
       "    </tr>\n",
       "    <tr>\n",
       "      <th>4</th>\n",
       "      <td>de538100bb0f4137961b9551640ef35e</td>\n",
       "      <td>3</td>\n",
       "      <td>1182</td>\n",
       "      <td>1183.0</td>\n",
       "      <td>2</td>\n",
       "      <td>34912.0</td>\n",
       "      <td>3</td>\n",
       "      <td>972</td>\n",
       "      <td>922</td>\n",
       "      <td>1.014233</td>\n",
       "      <td>...</td>\n",
       "      <td>0</td>\n",
       "      <td>0</td>\n",
       "      <td>0</td>\n",
       "      <td>0</td>\n",
       "      <td>0</td>\n",
       "      <td>1</td>\n",
       "      <td>0</td>\n",
       "      <td>1</td>\n",
       "      <td>0</td>\n",
       "      <td>0</td>\n",
       "    </tr>\n",
       "    <tr>\n",
       "      <th>...</th>\n",
       "      <td>...</td>\n",
       "      <td>...</td>\n",
       "      <td>...</td>\n",
       "      <td>...</td>\n",
       "      <td>...</td>\n",
       "      <td>...</td>\n",
       "      <td>...</td>\n",
       "      <td>...</td>\n",
       "      <td>...</td>\n",
       "      <td>...</td>\n",
       "      <td>...</td>\n",
       "      <td>...</td>\n",
       "      <td>...</td>\n",
       "      <td>...</td>\n",
       "      <td>...</td>\n",
       "      <td>...</td>\n",
       "      <td>...</td>\n",
       "      <td>...</td>\n",
       "      <td>...</td>\n",
       "      <td>...</td>\n",
       "      <td>...</td>\n",
       "    </tr>\n",
       "    <tr>\n",
       "      <th>161558</th>\n",
       "      <td>a15fa8bdb9924162999c502997b80ad2</td>\n",
       "      <td>4</td>\n",
       "      <td>274</td>\n",
       "      <td>0.0</td>\n",
       "      <td>2</td>\n",
       "      <td>44084.0</td>\n",
       "      <td>1</td>\n",
       "      <td>170</td>\n",
       "      <td>119</td>\n",
       "      <td>0.791117</td>\n",
       "      <td>...</td>\n",
       "      <td>0</td>\n",
       "      <td>0</td>\n",
       "      <td>1</td>\n",
       "      <td>0</td>\n",
       "      <td>0</td>\n",
       "      <td>0</td>\n",
       "      <td>1</td>\n",
       "      <td>1</td>\n",
       "      <td>0</td>\n",
       "      <td>0</td>\n",
       "    </tr>\n",
       "    <tr>\n",
       "      <th>161559</th>\n",
       "      <td>151354fa712049f1a6d1644ec17878f9</td>\n",
       "      <td>4</td>\n",
       "      <td>213</td>\n",
       "      <td>201.0</td>\n",
       "      <td>2</td>\n",
       "      <td>43500.0</td>\n",
       "      <td>7</td>\n",
       "      <td>57</td>\n",
       "      <td>132</td>\n",
       "      <td>-0.189311</td>\n",
       "      <td>...</td>\n",
       "      <td>0</td>\n",
       "      <td>0</td>\n",
       "      <td>0</td>\n",
       "      <td>1</td>\n",
       "      <td>0</td>\n",
       "      <td>0</td>\n",
       "      <td>1</td>\n",
       "      <td>0</td>\n",
       "      <td>0</td>\n",
       "      <td>1</td>\n",
       "    </tr>\n",
       "    <tr>\n",
       "      <th>161560</th>\n",
       "      <td>fa71111ad30d492683f9a6a5fbc9f07e</td>\n",
       "      <td>4</td>\n",
       "      <td>300</td>\n",
       "      <td>308.0</td>\n",
       "      <td>2</td>\n",
       "      <td>43500.0</td>\n",
       "      <td>3</td>\n",
       "      <td>551</td>\n",
       "      <td>527</td>\n",
       "      <td>-0.709962</td>\n",
       "      <td>...</td>\n",
       "      <td>0</td>\n",
       "      <td>0</td>\n",
       "      <td>0</td>\n",
       "      <td>1</td>\n",
       "      <td>0</td>\n",
       "      <td>0</td>\n",
       "      <td>1</td>\n",
       "      <td>1</td>\n",
       "      <td>0</td>\n",
       "      <td>0</td>\n",
       "    </tr>\n",
       "    <tr>\n",
       "      <th>161561</th>\n",
       "      <td>22de0c744a4741c2a1f14bf4a520a3c0</td>\n",
       "      <td>4</td>\n",
       "      <td>2209</td>\n",
       "      <td>2213.0</td>\n",
       "      <td>2</td>\n",
       "      <td>8280.0</td>\n",
       "      <td>12</td>\n",
       "      <td>490</td>\n",
       "      <td>945</td>\n",
       "      <td>2.681378</td>\n",
       "      <td>...</td>\n",
       "      <td>0</td>\n",
       "      <td>0</td>\n",
       "      <td>0</td>\n",
       "      <td>0</td>\n",
       "      <td>1</td>\n",
       "      <td>0</td>\n",
       "      <td>1</td>\n",
       "      <td>1</td>\n",
       "      <td>0</td>\n",
       "      <td>0</td>\n",
       "    </tr>\n",
       "    <tr>\n",
       "      <th>161562</th>\n",
       "      <td>e602d6de21394bf9a7bbd78d32f1d1d2</td>\n",
       "      <td>3</td>\n",
       "      <td>418</td>\n",
       "      <td>410.0</td>\n",
       "      <td>2</td>\n",
       "      <td>44797.0</td>\n",
       "      <td>4</td>\n",
       "      <td>378</td>\n",
       "      <td>283</td>\n",
       "      <td>-0.278688</td>\n",
       "      <td>...</td>\n",
       "      <td>0</td>\n",
       "      <td>0</td>\n",
       "      <td>0</td>\n",
       "      <td>0</td>\n",
       "      <td>0</td>\n",
       "      <td>0</td>\n",
       "      <td>1</td>\n",
       "      <td>0</td>\n",
       "      <td>1</td>\n",
       "      <td>0</td>\n",
       "    </tr>\n",
       "  </tbody>\n",
       "</table>\n",
       "<p>156569 rows × 24 columns</p>\n",
       "</div>"
      ],
      "text/plain": [
       "                              request_id  week_id  miles  order_distance  \\\n",
       "0       c2653eda11cd4d94879d1946392eb2b5        4   1856          1848.0   \n",
       "1       65e3dcc84a2246e68ea8636a967b31b2        3     56            47.0   \n",
       "2       0a86f005640a4204b46c95ca033a7ced        1    259           255.0   \n",
       "3       1105b4bc7b444f7985d4ad810e7acbc2        3     71            68.0   \n",
       "4       de538100bb0f4137961b9551640ef35e        3   1182          1183.0   \n",
       "...                                  ...      ...    ...             ...   \n",
       "161558  a15fa8bdb9924162999c502997b80ad2        4    274             0.0   \n",
       "161559  151354fa712049f1a6d1644ec17878f9        4    213           201.0   \n",
       "161560  fa71111ad30d492683f9a6a5fbc9f07e        4    300           308.0   \n",
       "161561  22de0c744a4741c2a1f14bf4a520a3c0        4   2209          2213.0   \n",
       "161562  e602d6de21394bf9a7bbd78d32f1d1d2        3    418           410.0   \n",
       "\n",
       "        order_num_stops  order_origin_weight  lead_days  origin_dat_ref  \\\n",
       "0                     2              40000.0          3             633   \n",
       "1                     2              12729.0          3             604   \n",
       "2                     2              44176.0          3             761   \n",
       "3                     2              39847.0          6             187   \n",
       "4                     2              34912.0          3             972   \n",
       "...                 ...                  ...        ...             ...   \n",
       "161558                2              44084.0          1             170   \n",
       "161559                2              43500.0          7              57   \n",
       "161560                2              43500.0          3             551   \n",
       "161561                2               8280.0         12             490   \n",
       "161562                2              44797.0          4             378   \n",
       "\n",
       "        dest_dat_ref  rate_norm  ...  weekday_Sat weekday_Sun  weekday_Thu  \\\n",
       "0                978   2.273442  ...            1           0            0   \n",
       "1                604  -0.971030  ...            0           0            0   \n",
       "2                770  -0.393352  ...            0           0            0   \n",
       "3                180  -0.706546  ...            0           0            1   \n",
       "4                922   1.014233  ...            0           0            0   \n",
       "...              ...        ...  ...          ...         ...          ...   \n",
       "161558           119   0.791117  ...            0           0            1   \n",
       "161559           132  -0.189311  ...            0           0            0   \n",
       "161560           527  -0.709962  ...            0           0            0   \n",
       "161561           945   2.681378  ...            0           0            0   \n",
       "161562           283  -0.278688  ...            0           0            0   \n",
       "\n",
       "        weekday_Tue  weekday_Wed  order_equipment_type_R  \\\n",
       "0                 0            0                       0   \n",
       "1                 0            0                       0   \n",
       "2                 0            0                       0   \n",
       "3                 0            0                       0   \n",
       "4                 0            0                       1   \n",
       "...             ...          ...                     ...   \n",
       "161558            0            0                       0   \n",
       "161559            1            0                       0   \n",
       "161560            1            0                       0   \n",
       "161561            0            1                       0   \n",
       "161562            0            0                       0   \n",
       "\n",
       "        order_equipment_type_V  color_GREEN  color_RED  color_YELLOW  \n",
       "0                            1            0          1             0  \n",
       "1                            1            0          1             0  \n",
       "2                            1            0          1             0  \n",
       "3                            1            0          1             0  \n",
       "4                            0            1          0             0  \n",
       "...                        ...          ...        ...           ...  \n",
       "161558                       1            1          0             0  \n",
       "161559                       1            0          0             1  \n",
       "161560                       1            1          0             0  \n",
       "161561                       1            1          0             0  \n",
       "161562                       1            0          1             0  \n",
       "\n",
       "[156569 rows x 24 columns]"
      ]
     },
     "execution_count": 20,
     "metadata": {},
     "output_type": "execute_result"
    }
   ],
   "source": [
    "order_acceptance_df2"
   ]
  },
  {
   "cell_type": "markdown",
   "metadata": {},
   "source": [
    "we used one-hot encoding so that that our models do not assume higher importance for higher numbers. For the target, we use label encoding below"
   ]
  },
  {
   "cell_type": "code",
   "execution_count": 21,
   "metadata": {},
   "outputs": [],
   "source": [
    "from sklearn.preprocessing import LabelEncoder\n",
    "order_acceptance_df2['CurrentCondition_encoded'] = LabelEncoder().fit_transform(order_acceptance_df2['CurrentCondition'])"
   ]
  },
  {
   "cell_type": "code",
   "execution_count": 22,
   "metadata": {},
   "outputs": [
    {
     "data": {
      "text/html": [
       "<div>\n",
       "<style scoped>\n",
       "    .dataframe tbody tr th:only-of-type {\n",
       "        vertical-align: middle;\n",
       "    }\n",
       "\n",
       "    .dataframe tbody tr th {\n",
       "        vertical-align: top;\n",
       "    }\n",
       "\n",
       "    .dataframe thead th {\n",
       "        text-align: right;\n",
       "    }\n",
       "</style>\n",
       "<table border=\"1\" class=\"dataframe\">\n",
       "  <thead>\n",
       "    <tr style=\"text-align: right;\">\n",
       "      <th></th>\n",
       "      <th>request_id</th>\n",
       "      <th>week_id</th>\n",
       "      <th>miles</th>\n",
       "      <th>order_distance</th>\n",
       "      <th>order_num_stops</th>\n",
       "      <th>order_origin_weight</th>\n",
       "      <th>lead_days</th>\n",
       "      <th>origin_dat_ref</th>\n",
       "      <th>dest_dat_ref</th>\n",
       "      <th>rate_norm</th>\n",
       "      <th>...</th>\n",
       "      <th>weekday_Sun</th>\n",
       "      <th>weekday_Thu</th>\n",
       "      <th>weekday_Tue</th>\n",
       "      <th>weekday_Wed</th>\n",
       "      <th>order_equipment_type_R</th>\n",
       "      <th>order_equipment_type_V</th>\n",
       "      <th>color_GREEN</th>\n",
       "      <th>color_RED</th>\n",
       "      <th>color_YELLOW</th>\n",
       "      <th>CurrentCondition_encoded</th>\n",
       "    </tr>\n",
       "  </thead>\n",
       "  <tbody>\n",
       "    <tr>\n",
       "      <th>0</th>\n",
       "      <td>c2653eda11cd4d94879d1946392eb2b5</td>\n",
       "      <td>4</td>\n",
       "      <td>1856</td>\n",
       "      <td>1848.0</td>\n",
       "      <td>2</td>\n",
       "      <td>40000.0</td>\n",
       "      <td>3</td>\n",
       "      <td>633</td>\n",
       "      <td>978</td>\n",
       "      <td>2.273442</td>\n",
       "      <td>...</td>\n",
       "      <td>0</td>\n",
       "      <td>0</td>\n",
       "      <td>0</td>\n",
       "      <td>0</td>\n",
       "      <td>0</td>\n",
       "      <td>1</td>\n",
       "      <td>0</td>\n",
       "      <td>1</td>\n",
       "      <td>0</td>\n",
       "      <td>0</td>\n",
       "    </tr>\n",
       "    <tr>\n",
       "      <th>1</th>\n",
       "      <td>65e3dcc84a2246e68ea8636a967b31b2</td>\n",
       "      <td>3</td>\n",
       "      <td>56</td>\n",
       "      <td>47.0</td>\n",
       "      <td>2</td>\n",
       "      <td>12729.0</td>\n",
       "      <td>3</td>\n",
       "      <td>604</td>\n",
       "      <td>604</td>\n",
       "      <td>-0.971030</td>\n",
       "      <td>...</td>\n",
       "      <td>0</td>\n",
       "      <td>0</td>\n",
       "      <td>0</td>\n",
       "      <td>0</td>\n",
       "      <td>0</td>\n",
       "      <td>1</td>\n",
       "      <td>0</td>\n",
       "      <td>1</td>\n",
       "      <td>0</td>\n",
       "      <td>3</td>\n",
       "    </tr>\n",
       "    <tr>\n",
       "      <th>2</th>\n",
       "      <td>0a86f005640a4204b46c95ca033a7ced</td>\n",
       "      <td>1</td>\n",
       "      <td>259</td>\n",
       "      <td>255.0</td>\n",
       "      <td>2</td>\n",
       "      <td>44176.0</td>\n",
       "      <td>3</td>\n",
       "      <td>761</td>\n",
       "      <td>770</td>\n",
       "      <td>-0.393352</td>\n",
       "      <td>...</td>\n",
       "      <td>0</td>\n",
       "      <td>0</td>\n",
       "      <td>0</td>\n",
       "      <td>0</td>\n",
       "      <td>0</td>\n",
       "      <td>1</td>\n",
       "      <td>0</td>\n",
       "      <td>1</td>\n",
       "      <td>0</td>\n",
       "      <td>0</td>\n",
       "    </tr>\n",
       "    <tr>\n",
       "      <th>3</th>\n",
       "      <td>1105b4bc7b444f7985d4ad810e7acbc2</td>\n",
       "      <td>3</td>\n",
       "      <td>71</td>\n",
       "      <td>68.0</td>\n",
       "      <td>2</td>\n",
       "      <td>39847.0</td>\n",
       "      <td>6</td>\n",
       "      <td>187</td>\n",
       "      <td>180</td>\n",
       "      <td>-0.706546</td>\n",
       "      <td>...</td>\n",
       "      <td>0</td>\n",
       "      <td>1</td>\n",
       "      <td>0</td>\n",
       "      <td>0</td>\n",
       "      <td>0</td>\n",
       "      <td>1</td>\n",
       "      <td>0</td>\n",
       "      <td>1</td>\n",
       "      <td>0</td>\n",
       "      <td>3</td>\n",
       "    </tr>\n",
       "    <tr>\n",
       "      <th>4</th>\n",
       "      <td>de538100bb0f4137961b9551640ef35e</td>\n",
       "      <td>3</td>\n",
       "      <td>1182</td>\n",
       "      <td>1183.0</td>\n",
       "      <td>2</td>\n",
       "      <td>34912.0</td>\n",
       "      <td>3</td>\n",
       "      <td>972</td>\n",
       "      <td>922</td>\n",
       "      <td>1.014233</td>\n",
       "      <td>...</td>\n",
       "      <td>0</td>\n",
       "      <td>0</td>\n",
       "      <td>0</td>\n",
       "      <td>0</td>\n",
       "      <td>1</td>\n",
       "      <td>0</td>\n",
       "      <td>1</td>\n",
       "      <td>0</td>\n",
       "      <td>0</td>\n",
       "      <td>0</td>\n",
       "    </tr>\n",
       "    <tr>\n",
       "      <th>...</th>\n",
       "      <td>...</td>\n",
       "      <td>...</td>\n",
       "      <td>...</td>\n",
       "      <td>...</td>\n",
       "      <td>...</td>\n",
       "      <td>...</td>\n",
       "      <td>...</td>\n",
       "      <td>...</td>\n",
       "      <td>...</td>\n",
       "      <td>...</td>\n",
       "      <td>...</td>\n",
       "      <td>...</td>\n",
       "      <td>...</td>\n",
       "      <td>...</td>\n",
       "      <td>...</td>\n",
       "      <td>...</td>\n",
       "      <td>...</td>\n",
       "      <td>...</td>\n",
       "      <td>...</td>\n",
       "      <td>...</td>\n",
       "      <td>...</td>\n",
       "    </tr>\n",
       "    <tr>\n",
       "      <th>161558</th>\n",
       "      <td>a15fa8bdb9924162999c502997b80ad2</td>\n",
       "      <td>4</td>\n",
       "      <td>274</td>\n",
       "      <td>0.0</td>\n",
       "      <td>2</td>\n",
       "      <td>44084.0</td>\n",
       "      <td>1</td>\n",
       "      <td>170</td>\n",
       "      <td>119</td>\n",
       "      <td>0.791117</td>\n",
       "      <td>...</td>\n",
       "      <td>0</td>\n",
       "      <td>1</td>\n",
       "      <td>0</td>\n",
       "      <td>0</td>\n",
       "      <td>0</td>\n",
       "      <td>1</td>\n",
       "      <td>1</td>\n",
       "      <td>0</td>\n",
       "      <td>0</td>\n",
       "      <td>0</td>\n",
       "    </tr>\n",
       "    <tr>\n",
       "      <th>161559</th>\n",
       "      <td>151354fa712049f1a6d1644ec17878f9</td>\n",
       "      <td>4</td>\n",
       "      <td>213</td>\n",
       "      <td>201.0</td>\n",
       "      <td>2</td>\n",
       "      <td>43500.0</td>\n",
       "      <td>7</td>\n",
       "      <td>57</td>\n",
       "      <td>132</td>\n",
       "      <td>-0.189311</td>\n",
       "      <td>...</td>\n",
       "      <td>0</td>\n",
       "      <td>0</td>\n",
       "      <td>1</td>\n",
       "      <td>0</td>\n",
       "      <td>0</td>\n",
       "      <td>1</td>\n",
       "      <td>0</td>\n",
       "      <td>0</td>\n",
       "      <td>1</td>\n",
       "      <td>3</td>\n",
       "    </tr>\n",
       "    <tr>\n",
       "      <th>161560</th>\n",
       "      <td>fa71111ad30d492683f9a6a5fbc9f07e</td>\n",
       "      <td>4</td>\n",
       "      <td>300</td>\n",
       "      <td>308.0</td>\n",
       "      <td>2</td>\n",
       "      <td>43500.0</td>\n",
       "      <td>3</td>\n",
       "      <td>551</td>\n",
       "      <td>527</td>\n",
       "      <td>-0.709962</td>\n",
       "      <td>...</td>\n",
       "      <td>0</td>\n",
       "      <td>0</td>\n",
       "      <td>1</td>\n",
       "      <td>0</td>\n",
       "      <td>0</td>\n",
       "      <td>1</td>\n",
       "      <td>1</td>\n",
       "      <td>0</td>\n",
       "      <td>0</td>\n",
       "      <td>0</td>\n",
       "    </tr>\n",
       "    <tr>\n",
       "      <th>161561</th>\n",
       "      <td>22de0c744a4741c2a1f14bf4a520a3c0</td>\n",
       "      <td>4</td>\n",
       "      <td>2209</td>\n",
       "      <td>2213.0</td>\n",
       "      <td>2</td>\n",
       "      <td>8280.0</td>\n",
       "      <td>12</td>\n",
       "      <td>490</td>\n",
       "      <td>945</td>\n",
       "      <td>2.681378</td>\n",
       "      <td>...</td>\n",
       "      <td>0</td>\n",
       "      <td>0</td>\n",
       "      <td>0</td>\n",
       "      <td>1</td>\n",
       "      <td>0</td>\n",
       "      <td>1</td>\n",
       "      <td>1</td>\n",
       "      <td>0</td>\n",
       "      <td>0</td>\n",
       "      <td>0</td>\n",
       "    </tr>\n",
       "    <tr>\n",
       "      <th>161562</th>\n",
       "      <td>e602d6de21394bf9a7bbd78d32f1d1d2</td>\n",
       "      <td>3</td>\n",
       "      <td>418</td>\n",
       "      <td>410.0</td>\n",
       "      <td>2</td>\n",
       "      <td>44797.0</td>\n",
       "      <td>4</td>\n",
       "      <td>378</td>\n",
       "      <td>283</td>\n",
       "      <td>-0.278688</td>\n",
       "      <td>...</td>\n",
       "      <td>0</td>\n",
       "      <td>0</td>\n",
       "      <td>0</td>\n",
       "      <td>0</td>\n",
       "      <td>0</td>\n",
       "      <td>1</td>\n",
       "      <td>0</td>\n",
       "      <td>1</td>\n",
       "      <td>0</td>\n",
       "      <td>3</td>\n",
       "    </tr>\n",
       "  </tbody>\n",
       "</table>\n",
       "<p>156569 rows × 25 columns</p>\n",
       "</div>"
      ],
      "text/plain": [
       "                              request_id  week_id  miles  order_distance  \\\n",
       "0       c2653eda11cd4d94879d1946392eb2b5        4   1856          1848.0   \n",
       "1       65e3dcc84a2246e68ea8636a967b31b2        3     56            47.0   \n",
       "2       0a86f005640a4204b46c95ca033a7ced        1    259           255.0   \n",
       "3       1105b4bc7b444f7985d4ad810e7acbc2        3     71            68.0   \n",
       "4       de538100bb0f4137961b9551640ef35e        3   1182          1183.0   \n",
       "...                                  ...      ...    ...             ...   \n",
       "161558  a15fa8bdb9924162999c502997b80ad2        4    274             0.0   \n",
       "161559  151354fa712049f1a6d1644ec17878f9        4    213           201.0   \n",
       "161560  fa71111ad30d492683f9a6a5fbc9f07e        4    300           308.0   \n",
       "161561  22de0c744a4741c2a1f14bf4a520a3c0        4   2209          2213.0   \n",
       "161562  e602d6de21394bf9a7bbd78d32f1d1d2        3    418           410.0   \n",
       "\n",
       "        order_num_stops  order_origin_weight  lead_days  origin_dat_ref  \\\n",
       "0                     2              40000.0          3             633   \n",
       "1                     2              12729.0          3             604   \n",
       "2                     2              44176.0          3             761   \n",
       "3                     2              39847.0          6             187   \n",
       "4                     2              34912.0          3             972   \n",
       "...                 ...                  ...        ...             ...   \n",
       "161558                2              44084.0          1             170   \n",
       "161559                2              43500.0          7              57   \n",
       "161560                2              43500.0          3             551   \n",
       "161561                2               8280.0         12             490   \n",
       "161562                2              44797.0          4             378   \n",
       "\n",
       "        dest_dat_ref  rate_norm  ...  weekday_Sun weekday_Thu  weekday_Tue  \\\n",
       "0                978   2.273442  ...            0           0            0   \n",
       "1                604  -0.971030  ...            0           0            0   \n",
       "2                770  -0.393352  ...            0           0            0   \n",
       "3                180  -0.706546  ...            0           1            0   \n",
       "4                922   1.014233  ...            0           0            0   \n",
       "...              ...        ...  ...          ...         ...          ...   \n",
       "161558           119   0.791117  ...            0           1            0   \n",
       "161559           132  -0.189311  ...            0           0            1   \n",
       "161560           527  -0.709962  ...            0           0            1   \n",
       "161561           945   2.681378  ...            0           0            0   \n",
       "161562           283  -0.278688  ...            0           0            0   \n",
       "\n",
       "        weekday_Wed  order_equipment_type_R  order_equipment_type_V  \\\n",
       "0                 0                       0                       1   \n",
       "1                 0                       0                       1   \n",
       "2                 0                       0                       1   \n",
       "3                 0                       0                       1   \n",
       "4                 0                       1                       0   \n",
       "...             ...                     ...                     ...   \n",
       "161558            0                       0                       1   \n",
       "161559            0                       0                       1   \n",
       "161560            0                       0                       1   \n",
       "161561            1                       0                       1   \n",
       "161562            0                       0                       1   \n",
       "\n",
       "        color_GREEN  color_RED  color_YELLOW  CurrentCondition_encoded  \n",
       "0                 0          1             0                         0  \n",
       "1                 0          1             0                         3  \n",
       "2                 0          1             0                         0  \n",
       "3                 0          1             0                         3  \n",
       "4                 1          0             0                         0  \n",
       "...             ...        ...           ...                       ...  \n",
       "161558            1          0             0                         0  \n",
       "161559            0          0             1                         3  \n",
       "161560            1          0             0                         0  \n",
       "161561            1          0             0                         0  \n",
       "161562            0          1             0                         3  \n",
       "\n",
       "[156569 rows x 25 columns]"
      ]
     },
     "execution_count": 22,
     "metadata": {},
     "output_type": "execute_result"
    }
   ],
   "source": [
    "order_acceptance_df2"
   ]
  },
  {
   "cell_type": "code",
   "execution_count": 23,
   "metadata": {},
   "outputs": [
    {
     "data": {
      "text/plain": [
       "Index(['request_id', 'week_id', 'miles', 'order_distance', 'order_num_stops',\n",
       "       'order_origin_weight', 'lead_days', 'origin_dat_ref', 'dest_dat_ref',\n",
       "       'rate_norm', 'est_cost_norm', 'CurrentCondition', 'weekday_Fri',\n",
       "       'weekday_Mon', 'weekday_Sat', 'weekday_Sun', 'weekday_Thu',\n",
       "       'weekday_Tue', 'weekday_Wed', 'order_equipment_type_R',\n",
       "       'order_equipment_type_V', 'color_GREEN', 'color_RED', 'color_YELLOW',\n",
       "       'CurrentCondition_encoded'],\n",
       "      dtype='object')"
      ]
     },
     "execution_count": 23,
     "metadata": {},
     "output_type": "execute_result"
    }
   ],
   "source": [
    "order_acceptance_df2.columns"
   ]
  },
  {
   "cell_type": "markdown",
   "metadata": {},
   "source": [
    "# Classification modeling"
   ]
  },
  {
   "cell_type": "code",
   "execution_count": 24,
   "metadata": {},
   "outputs": [],
   "source": [
    "# define independent variables, X, and target variable, y\n",
    "# we drop 'order_distance' and 'est_cost_norm' from our modeling to reduce multicollinearity\n",
    "col_names = ['week_id', 'miles', 'order_num_stops',\n",
    "       'order_origin_weight', 'lead_days', 'origin_dat_ref', 'dest_dat_ref',\n",
    "       'rate_norm', 'weekday_Fri',\n",
    "       'weekday_Mon', 'weekday_Sat', 'weekday_Sun', 'weekday_Thu',\n",
    "       'weekday_Tue', 'weekday_Wed', 'order_equipment_type_R',\n",
    "       'order_equipment_type_V', 'color_GREEN', 'color_RED', 'color_YELLOW']\n",
    "\n",
    "\n",
    "X = order_acceptance_df2[col_names]\n",
    "y = order_acceptance_df2[[\"CurrentCondition_encoded\"]]"
   ]
  },
  {
   "cell_type": "code",
   "execution_count": 25,
   "metadata": {},
   "outputs": [],
   "source": [
    "# Create a train/test split in a ratio of 75% to 25% with train: 75% and test: 25%\n",
    "from sklearn.model_selection import train_test_split\n",
    "\n",
    "X_train, X_test, y_train, y_test = train_test_split(X, y, test_size=0.25, random_state = 0)"
   ]
  },
  {
   "cell_type": "markdown",
   "metadata": {},
   "source": [
    "# Classification model 1"
   ]
  },
  {
   "cell_type": "markdown",
   "metadata": {},
   "source": [
    "We have seven categories for the 'CurrentCondition', the outcome variable. A logistic regression model would be an appropriate classifier to predict if orders would be accepted or rejected or any of the other categories. "
   ]
  },
  {
   "cell_type": "code",
   "execution_count": 26,
   "metadata": {},
   "outputs": [
    {
     "name": "stderr",
     "output_type": "stream",
     "text": [
      "/Users/riddyokanlawon/opt/anaconda3/lib/python3.8/site-packages/sklearn/utils/validation.py:72: DataConversionWarning: A column-vector y was passed when a 1d array was expected. Please change the shape of y to (n_samples, ), for example using ravel().\n",
      "  return f(**kwargs)\n",
      "/Users/riddyokanlawon/opt/anaconda3/lib/python3.8/site-packages/sklearn/linear_model/_logistic.py:762: ConvergenceWarning: lbfgs failed to converge (status=1):\n",
      "STOP: TOTAL NO. of ITERATIONS REACHED LIMIT.\n",
      "\n",
      "Increase the number of iterations (max_iter) or scale the data as shown in:\n",
      "    https://scikit-learn.org/stable/modules/preprocessing.html\n",
      "Please also refer to the documentation for alternative solver options:\n",
      "    https://scikit-learn.org/stable/modules/linear_model.html#logistic-regression\n",
      "  n_iter_i = _check_optimize_result(\n"
     ]
    }
   ],
   "source": [
    "from sklearn.linear_model import LogisticRegression\n",
    "\n",
    "# instantiate the model (using the default parameters)\n",
    "logreg = LogisticRegression()\n",
    "\n",
    "\n",
    "# Feature Scaling\n",
    "from sklearn.preprocessing import StandardScaler\n",
    "scaler = StandardScaler()\n",
    "X_train = scaler.fit_transform(X_train)\n",
    "X_test = scaler.transform(X_test)\n",
    "\n",
    "# fit the model with data\n",
    "logreg.fit(X_train, y_train)\n",
    "\n",
    "#\n",
    "y_pred = logreg.predict(X_test)"
   ]
  },
  {
   "cell_type": "code",
   "execution_count": 27,
   "metadata": {},
   "outputs": [
    {
     "data": {
      "text/plain": [
       "array([[21292,     0,     0,  2115,     0,     0,     5],\n",
       "       [  721,     0,     0,    72,     0,     0,     0],\n",
       "       [   11,     0,     0,     3,     0,     0,     0],\n",
       "       [ 6098,     0,     0,  2839,     0,     0,     0],\n",
       "       [  136,     0,     0,    22,     0,     0,     1],\n",
       "       [   12,     0,     0,     8,     0,     0,     0],\n",
       "       [ 4271,     0,     0,  1534,     0,     0,     3]])"
      ]
     },
     "execution_count": 27,
     "metadata": {},
     "output_type": "execute_result"
    }
   ],
   "source": [
    "# import the metrics class\n",
    "from sklearn import metrics\n",
    "cnf_matrix = metrics.confusion_matrix(y_test, y_pred)\n",
    "cnf_matrix"
   ]
  },
  {
   "cell_type": "code",
   "execution_count": 28,
   "metadata": {},
   "outputs": [
    {
     "data": {
      "text/plain": [
       "Text(0.5, 257.44, 'Predicted label')"
      ]
     },
     "execution_count": 28,
     "metadata": {},
     "output_type": "execute_result"
    },
    {
     "data": {
      "image/png": "[encoded data removed]",
      "text/plain": [
       "<Figure size 432x288 with 2 Axes>"
      ]
     },
     "metadata": {
      "needs_background": "light"
     },
     "output_type": "display_data"
    }
   ],
   "source": [
    "class_names=[0, 1, 2, 3, 4, 5, 6] # name  of classes\n",
    "fig, ax = plt.subplots()\n",
    "tick_marks = np.arange(len(class_names))\n",
    "plt.xticks(tick_marks, class_names)\n",
    "plt.yticks(tick_marks, class_names)\n",
    "# create heatmap\n",
    "sns.heatmap(pd.DataFrame(cnf_matrix), annot=True, cmap=\"YlGnBu\" ,fmt='g')\n",
    "ax.xaxis.set_label_position(\"top\")\n",
    "plt.tight_layout()\n",
    "plt.title('Confusion matrix', y = 1.1)\n",
    "plt.ylabel('Actual label')\n",
    "plt.xlabel('Predicted label')"
   ]
  },
  {
   "cell_type": "code",
   "execution_count": 29,
   "metadata": {},
   "outputs": [
    {
     "name": "stdout",
     "output_type": "stream",
     "text": [
      "Accuracy: 0.6165597935773957\n"
     ]
    }
   ],
   "source": [
    "print(\"Accuracy:\", metrics.accuracy_score(y_test, y_pred))"
   ]
  },
  {
   "cell_type": "markdown",
   "metadata": {},
   "source": [
    "# Classification model 2"
   ]
  },
  {
   "cell_type": "markdown",
   "metadata": {},
   "source": [
    "We build a second model using Random Forest"
   ]
  },
  {
   "cell_type": "code",
   "execution_count": 30,
   "metadata": {},
   "outputs": [],
   "source": [
    "from sklearn.ensemble import RandomForestClassifier"
   ]
  },
  {
   "cell_type": "code",
   "execution_count": 31,
   "metadata": {},
   "outputs": [
    {
     "name": "stderr",
     "output_type": "stream",
     "text": [
      "<ipython-input-31-e309b8838252>:2: DataConversionWarning: A column-vector y was passed when a 1d array was expected. Please change the shape of y to (n_samples,), for example using ravel().\n",
      "  classifier.fit(X_train, y_train)\n"
     ]
    },
    {
     "data": {
      "text/plain": [
       "RandomForestClassifier(criterion='entropy', n_estimators=10, random_state=42)"
      ]
     },
     "execution_count": 31,
     "metadata": {},
     "output_type": "execute_result"
    }
   ],
   "source": [
    "classifier = RandomForestClassifier(n_estimators = 10, criterion = 'entropy', random_state = 42)\n",
    "classifier.fit(X_train, y_train)"
   ]
  },
  {
   "cell_type": "code",
   "execution_count": 32,
   "metadata": {},
   "outputs": [],
   "source": [
    "y_pred_rf = classifier.predict(X_test)"
   ]
  },
  {
   "cell_type": "code",
   "execution_count": 33,
   "metadata": {},
   "outputs": [
    {
     "name": "stdout",
     "output_type": "stream",
     "text": [
      "Accuracy: 0.760238101320798\n"
     ]
    }
   ],
   "source": [
    "print(\"Accuracy:\", metrics.accuracy_score(y_test, y_pred_rf))"
   ]
  },
  {
   "cell_type": "markdown",
   "metadata": {},
   "source": [
    "The second model, random forest, outperforms the logistic regression-based model with accuracy of the latter being 60% and the former being 76%. The accuracy is the total number of correctly classified data instances in the test set divided by the total number of classifications. "
   ]
  },
  {
   "cell_type": "code",
   "execution_count": 35,
   "metadata": {},
   "outputs": [
    {
     "name": "stderr",
     "output_type": "stream",
     "text": [
      "/Users/riddyokanlawon/opt/anaconda3/lib/python3.8/site-packages/sklearn/feature_selection/_rfe.py:196: DataConversionWarning: A column-vector y was passed when a 1d array was expected. Please change the shape of y to (n_samples,), for example using ravel().\n",
      "  estimator.fit(X[:, features], y)\n",
      "/Users/riddyokanlawon/opt/anaconda3/lib/python3.8/site-packages/sklearn/feature_selection/_rfe.py:196: DataConversionWarning: A column-vector y was passed when a 1d array was expected. Please change the shape of y to (n_samples,), for example using ravel().\n",
      "  estimator.fit(X[:, features], y)\n",
      "/Users/riddyokanlawon/opt/anaconda3/lib/python3.8/site-packages/sklearn/feature_selection/_rfe.py:196: DataConversionWarning: A column-vector y was passed when a 1d array was expected. Please change the shape of y to (n_samples,), for example using ravel().\n",
      "  estimator.fit(X[:, features], y)\n",
      "/Users/riddyokanlawon/opt/anaconda3/lib/python3.8/site-packages/sklearn/feature_selection/_rfe.py:196: DataConversionWarning: A column-vector y was passed when a 1d array was expected. Please change the shape of y to (n_samples,), for example using ravel().\n",
      "  estimator.fit(X[:, features], y)\n",
      "/Users/riddyokanlawon/opt/anaconda3/lib/python3.8/site-packages/sklearn/feature_selection/_rfe.py:196: DataConversionWarning: A column-vector y was passed when a 1d array was expected. Please change the shape of y to (n_samples,), for example using ravel().\n",
      "  estimator.fit(X[:, features], y)\n",
      "/Users/riddyokanlawon/opt/anaconda3/lib/python3.8/site-packages/sklearn/feature_selection/_rfe.py:196: DataConversionWarning: A column-vector y was passed when a 1d array was expected. Please change the shape of y to (n_samples,), for example using ravel().\n",
      "  estimator.fit(X[:, features], y)\n",
      "/Users/riddyokanlawon/opt/anaconda3/lib/python3.8/site-packages/sklearn/feature_selection/_rfe.py:196: DataConversionWarning: A column-vector y was passed when a 1d array was expected. Please change the shape of y to (n_samples,), for example using ravel().\n",
      "  estimator.fit(X[:, features], y)\n",
      "/Users/riddyokanlawon/opt/anaconda3/lib/python3.8/site-packages/sklearn/feature_selection/_rfe.py:196: DataConversionWarning: A column-vector y was passed when a 1d array was expected. Please change the shape of y to (n_samples,), for example using ravel().\n",
      "  estimator.fit(X[:, features], y)\n",
      "/Users/riddyokanlawon/opt/anaconda3/lib/python3.8/site-packages/sklearn/feature_selection/_rfe.py:196: DataConversionWarning: A column-vector y was passed when a 1d array was expected. Please change the shape of y to (n_samples,), for example using ravel().\n",
      "  estimator.fit(X[:, features], y)\n",
      "/Users/riddyokanlawon/opt/anaconda3/lib/python3.8/site-packages/sklearn/feature_selection/_rfe.py:196: DataConversionWarning: A column-vector y was passed when a 1d array was expected. Please change the shape of y to (n_samples,), for example using ravel().\n",
      "  estimator.fit(X[:, features], y)\n",
      "/Users/riddyokanlawon/opt/anaconda3/lib/python3.8/site-packages/sklearn/feature_selection/_rfe.py:196: DataConversionWarning: A column-vector y was passed when a 1d array was expected. Please change the shape of y to (n_samples,), for example using ravel().\n",
      "  estimator.fit(X[:, features], y)\n",
      "/Users/riddyokanlawon/opt/anaconda3/lib/python3.8/site-packages/sklearn/feature_selection/_rfe.py:196: DataConversionWarning: A column-vector y was passed when a 1d array was expected. Please change the shape of y to (n_samples,), for example using ravel().\n",
      "  estimator.fit(X[:, features], y)\n",
      "/Users/riddyokanlawon/opt/anaconda3/lib/python3.8/site-packages/sklearn/feature_selection/_rfe.py:196: DataConversionWarning: A column-vector y was passed when a 1d array was expected. Please change the shape of y to (n_samples,), for example using ravel().\n",
      "  estimator.fit(X[:, features], y)\n",
      "/Users/riddyokanlawon/opt/anaconda3/lib/python3.8/site-packages/sklearn/feature_selection/_rfe.py:196: DataConversionWarning: A column-vector y was passed when a 1d array was expected. Please change the shape of y to (n_samples,), for example using ravel().\n",
      "  estimator.fit(X[:, features], y)\n",
      "/Users/riddyokanlawon/opt/anaconda3/lib/python3.8/site-packages/sklearn/feature_selection/_rfe.py:196: DataConversionWarning: A column-vector y was passed when a 1d array was expected. Please change the shape of y to (n_samples,), for example using ravel().\n",
      "  estimator.fit(X[:, features], y)\n",
      "/Users/riddyokanlawon/opt/anaconda3/lib/python3.8/site-packages/sklearn/feature_selection/_rfe.py:231: DataConversionWarning: A column-vector y was passed when a 1d array was expected. Please change the shape of y to (n_samples,), for example using ravel().\n",
      "  self.estimator_.fit(X[:, features], y)\n"
     ]
    },
    {
     "name": "stdout",
     "output_type": "stream",
     "text": [
      "Column: 0, Selected False, Rank: 5.000\n",
      "Column: 1, Selected True, Rank: 1.000\n",
      "Column: 2, Selected False, Rank: 16.000\n",
      "Column: 3, Selected True, Rank: 1.000\n",
      "Column: 4, Selected False, Rank: 2.000\n",
      "Column: 5, Selected True, Rank: 1.000\n",
      "Column: 6, Selected True, Rank: 1.000\n",
      "Column: 7, Selected True, Rank: 1.000\n",
      "Column: 8, Selected False, Rank: 7.000\n",
      "Column: 9, Selected False, Rank: 10.000\n",
      "Column: 10, Selected False, Rank: 14.000\n",
      "Column: 11, Selected False, Rank: 15.000\n",
      "Column: 12, Selected False, Rank: 9.000\n",
      "Column: 13, Selected False, Rank: 6.000\n",
      "Column: 14, Selected False, Rank: 8.000\n",
      "Column: 15, Selected False, Rank: 11.000\n",
      "Column: 16, Selected False, Rank: 13.000\n",
      "Column: 17, Selected False, Rank: 4.000\n",
      "Column: 18, Selected False, Rank: 3.000\n",
      "Column: 19, Selected False, Rank: 12.000\n"
     ]
    }
   ],
   "source": [
    "# report which features were selected by RFE\n",
    "# define RFE\n",
    "from sklearn.feature_selection import RFE\n",
    "rfe = RFE(estimator = classifier, n_features_to_select = 5)\n",
    "# fit RFE\n",
    "rfe.fit(X_train, y_train)\n",
    "# summarize all features\n",
    "for i in range(X.shape[1]):\n",
    "    print('Column: %d, Selected %s, Rank: %.3f' % (i, rfe.support_[i], rfe.ranking_[i]))"
   ]
  },
  {
   "cell_type": "code",
   "execution_count": 37,
   "metadata": {},
   "outputs": [
    {
     "data": {
      "text/plain": [
       "Index(['week_id', 'miles', 'order_num_stops', 'order_origin_weight',\n",
       "       'lead_days', 'origin_dat_ref', 'dest_dat_ref', 'rate_norm',\n",
       "       'weekday_Fri', 'weekday_Mon', 'weekday_Sat', 'weekday_Sun',\n",
       "       'weekday_Thu', 'weekday_Tue', 'weekday_Wed', 'order_equipment_type_R',\n",
       "       'order_equipment_type_V', 'color_GREEN', 'color_RED', 'color_YELLOW'],\n",
       "      dtype='object')"
      ]
     },
     "execution_count": 37,
     "metadata": {},
     "output_type": "execute_result"
    }
   ],
   "source": [
    "X.columns"
   ]
  },
  {
   "cell_type": "code",
   "execution_count": 38,
   "metadata": {
    "scrolled": true
   },
   "outputs": [
    {
     "name": "stderr",
     "output_type": "stream",
     "text": [
      "/Users/riddyokanlawon/opt/anaconda3/lib/python3.8/site-packages/sklearn/utils/validation.py:72: DataConversionWarning: A column-vector y was passed when a 1d array was expected. Please change the shape of y to (n_samples, ), for example using ravel().\n",
      "  return f(**kwargs)\n",
      "/Users/riddyokanlawon/opt/anaconda3/lib/python3.8/site-packages/sklearn/linear_model/_logistic.py:762: ConvergenceWarning: lbfgs failed to converge (status=1):\n",
      "STOP: TOTAL NO. of ITERATIONS REACHED LIMIT.\n",
      "\n",
      "Increase the number of iterations (max_iter) or scale the data as shown in:\n",
      "    https://scikit-learn.org/stable/modules/preprocessing.html\n",
      "Please also refer to the documentation for alternative solver options:\n",
      "    https://scikit-learn.org/stable/modules/linear_model.html#logistic-regression\n",
      "  n_iter_i = _check_optimize_result(\n",
      "/Users/riddyokanlawon/opt/anaconda3/lib/python3.8/site-packages/sklearn/utils/validation.py:72: DataConversionWarning: A column-vector y was passed when a 1d array was expected. Please change the shape of y to (n_samples, ), for example using ravel().\n",
      "  return f(**kwargs)\n",
      "/Users/riddyokanlawon/opt/anaconda3/lib/python3.8/site-packages/sklearn/linear_model/_logistic.py:762: ConvergenceWarning: lbfgs failed to converge (status=1):\n",
      "STOP: TOTAL NO. of ITERATIONS REACHED LIMIT.\n",
      "\n",
      "Increase the number of iterations (max_iter) or scale the data as shown in:\n",
      "    https://scikit-learn.org/stable/modules/preprocessing.html\n",
      "Please also refer to the documentation for alternative solver options:\n",
      "    https://scikit-learn.org/stable/modules/linear_model.html#logistic-regression\n",
      "  n_iter_i = _check_optimize_result(\n",
      "/Users/riddyokanlawon/opt/anaconda3/lib/python3.8/site-packages/sklearn/utils/validation.py:72: DataConversionWarning: A column-vector y was passed when a 1d array was expected. Please change the shape of y to (n_samples, ), for example using ravel().\n",
      "  return f(**kwargs)\n",
      "/Users/riddyokanlawon/opt/anaconda3/lib/python3.8/site-packages/sklearn/linear_model/_logistic.py:762: ConvergenceWarning: lbfgs failed to converge (status=1):\n",
      "STOP: TOTAL NO. of ITERATIONS REACHED LIMIT.\n",
      "\n",
      "Increase the number of iterations (max_iter) or scale the data as shown in:\n",
      "    https://scikit-learn.org/stable/modules/preprocessing.html\n",
      "Please also refer to the documentation for alternative solver options:\n",
      "    https://scikit-learn.org/stable/modules/linear_model.html#logistic-regression\n",
      "  n_iter_i = _check_optimize_result(\n",
      "/Users/riddyokanlawon/opt/anaconda3/lib/python3.8/site-packages/sklearn/utils/validation.py:72: DataConversionWarning: A column-vector y was passed when a 1d array was expected. Please change the shape of y to (n_samples, ), for example using ravel().\n",
      "  return f(**kwargs)\n",
      "/Users/riddyokanlawon/opt/anaconda3/lib/python3.8/site-packages/sklearn/linear_model/_logistic.py:762: ConvergenceWarning: lbfgs failed to converge (status=1):\n",
      "STOP: TOTAL NO. of ITERATIONS REACHED LIMIT.\n",
      "\n",
      "Increase the number of iterations (max_iter) or scale the data as shown in:\n",
      "    https://scikit-learn.org/stable/modules/preprocessing.html\n",
      "Please also refer to the documentation for alternative solver options:\n",
      "    https://scikit-learn.org/stable/modules/linear_model.html#logistic-regression\n",
      "  n_iter_i = _check_optimize_result(\n",
      "/Users/riddyokanlawon/opt/anaconda3/lib/python3.8/site-packages/sklearn/utils/validation.py:72: DataConversionWarning: A column-vector y was passed when a 1d array was expected. Please change the shape of y to (n_samples, ), for example using ravel().\n",
      "  return f(**kwargs)\n",
      "/Users/riddyokanlawon/opt/anaconda3/lib/python3.8/site-packages/sklearn/linear_model/_logistic.py:762: ConvergenceWarning: lbfgs failed to converge (status=1):\n",
      "STOP: TOTAL NO. of ITERATIONS REACHED LIMIT.\n",
      "\n",
      "Increase the number of iterations (max_iter) or scale the data as shown in:\n",
      "    https://scikit-learn.org/stable/modules/preprocessing.html\n",
      "Please also refer to the documentation for alternative solver options:\n",
      "    https://scikit-learn.org/stable/modules/linear_model.html#logistic-regression\n",
      "  n_iter_i = _check_optimize_result(\n",
      "/Users/riddyokanlawon/opt/anaconda3/lib/python3.8/site-packages/sklearn/utils/validation.py:72: DataConversionWarning: A column-vector y was passed when a 1d array was expected. Please change the shape of y to (n_samples, ), for example using ravel().\n",
      "  return f(**kwargs)\n",
      "/Users/riddyokanlawon/opt/anaconda3/lib/python3.8/site-packages/sklearn/linear_model/_logistic.py:762: ConvergenceWarning: lbfgs failed to converge (status=1):\n",
      "STOP: TOTAL NO. of ITERATIONS REACHED LIMIT.\n",
      "\n",
      "Increase the number of iterations (max_iter) or scale the data as shown in:\n",
      "    https://scikit-learn.org/stable/modules/preprocessing.html\n",
      "Please also refer to the documentation for alternative solver options:\n",
      "    https://scikit-learn.org/stable/modules/linear_model.html#logistic-regression\n",
      "  n_iter_i = _check_optimize_result(\n",
      "/Users/riddyokanlawon/opt/anaconda3/lib/python3.8/site-packages/sklearn/utils/validation.py:72: DataConversionWarning: A column-vector y was passed when a 1d array was expected. Please change the shape of y to (n_samples, ), for example using ravel().\n",
      "  return f(**kwargs)\n",
      "/Users/riddyokanlawon/opt/anaconda3/lib/python3.8/site-packages/sklearn/linear_model/_logistic.py:762: ConvergenceWarning: lbfgs failed to converge (status=1):\n",
      "STOP: TOTAL NO. of ITERATIONS REACHED LIMIT.\n",
      "\n",
      "Increase the number of iterations (max_iter) or scale the data as shown in:\n",
      "    https://scikit-learn.org/stable/modules/preprocessing.html\n",
      "Please also refer to the documentation for alternative solver options:\n",
      "    https://scikit-learn.org/stable/modules/linear_model.html#logistic-regression\n",
      "  n_iter_i = _check_optimize_result(\n",
      "/Users/riddyokanlawon/opt/anaconda3/lib/python3.8/site-packages/sklearn/utils/validation.py:72: DataConversionWarning: A column-vector y was passed when a 1d array was expected. Please change the shape of y to (n_samples, ), for example using ravel().\n",
      "  return f(**kwargs)\n",
      "/Users/riddyokanlawon/opt/anaconda3/lib/python3.8/site-packages/sklearn/linear_model/_logistic.py:762: ConvergenceWarning: lbfgs failed to converge (status=1):\n",
      "STOP: TOTAL NO. of ITERATIONS REACHED LIMIT.\n",
      "\n",
      "Increase the number of iterations (max_iter) or scale the data as shown in:\n",
      "    https://scikit-learn.org/stable/modules/preprocessing.html\n",
      "Please also refer to the documentation for alternative solver options:\n",
      "    https://scikit-learn.org/stable/modules/linear_model.html#logistic-regression\n",
      "  n_iter_i = _check_optimize_result(\n",
      "/Users/riddyokanlawon/opt/anaconda3/lib/python3.8/site-packages/sklearn/utils/validation.py:72: DataConversionWarning: A column-vector y was passed when a 1d array was expected. Please change the shape of y to (n_samples, ), for example using ravel().\n",
      "  return f(**kwargs)\n",
      "/Users/riddyokanlawon/opt/anaconda3/lib/python3.8/site-packages/sklearn/linear_model/_logistic.py:762: ConvergenceWarning: lbfgs failed to converge (status=1):\n",
      "STOP: TOTAL NO. of ITERATIONS REACHED LIMIT.\n",
      "\n",
      "Increase the number of iterations (max_iter) or scale the data as shown in:\n",
      "    https://scikit-learn.org/stable/modules/preprocessing.html\n",
      "Please also refer to the documentation for alternative solver options:\n",
      "    https://scikit-learn.org/stable/modules/linear_model.html#logistic-regression\n",
      "  n_iter_i = _check_optimize_result(\n",
      "/Users/riddyokanlawon/opt/anaconda3/lib/python3.8/site-packages/sklearn/utils/validation.py:72: DataConversionWarning: A column-vector y was passed when a 1d array was expected. Please change the shape of y to (n_samples, ), for example using ravel().\n",
      "  return f(**kwargs)\n",
      "/Users/riddyokanlawon/opt/anaconda3/lib/python3.8/site-packages/sklearn/linear_model/_logistic.py:762: ConvergenceWarning: lbfgs failed to converge (status=1):\n",
      "STOP: TOTAL NO. of ITERATIONS REACHED LIMIT.\n",
      "\n",
      "Increase the number of iterations (max_iter) or scale the data as shown in:\n",
      "    https://scikit-learn.org/stable/modules/preprocessing.html\n",
      "Please also refer to the documentation for alternative solver options:\n",
      "    https://scikit-learn.org/stable/modules/linear_model.html#logistic-regression\n",
      "  n_iter_i = _check_optimize_result(\n",
      "/Users/riddyokanlawon/opt/anaconda3/lib/python3.8/site-packages/sklearn/utils/validation.py:72: DataConversionWarning: A column-vector y was passed when a 1d array was expected. Please change the shape of y to (n_samples, ), for example using ravel().\n",
      "  return f(**kwargs)\n",
      "/Users/riddyokanlawon/opt/anaconda3/lib/python3.8/site-packages/sklearn/linear_model/_logistic.py:762: ConvergenceWarning: lbfgs failed to converge (status=1):\n",
      "STOP: TOTAL NO. of ITERATIONS REACHED LIMIT.\n",
      "\n",
      "Increase the number of iterations (max_iter) or scale the data as shown in:\n",
      "    https://scikit-learn.org/stable/modules/preprocessing.html\n",
      "Please also refer to the documentation for alternative solver options:\n",
      "    https://scikit-learn.org/stable/modules/linear_model.html#logistic-regression\n",
      "  n_iter_i = _check_optimize_result(\n",
      "/Users/riddyokanlawon/opt/anaconda3/lib/python3.8/site-packages/sklearn/utils/validation.py:72: DataConversionWarning: A column-vector y was passed when a 1d array was expected. Please change the shape of y to (n_samples, ), for example using ravel().\n",
      "  return f(**kwargs)\n",
      "/Users/riddyokanlawon/opt/anaconda3/lib/python3.8/site-packages/sklearn/linear_model/_logistic.py:762: ConvergenceWarning: lbfgs failed to converge (status=1):\n",
      "STOP: TOTAL NO. of ITERATIONS REACHED LIMIT.\n",
      "\n",
      "Increase the number of iterations (max_iter) or scale the data as shown in:\n",
      "    https://scikit-learn.org/stable/modules/preprocessing.html\n",
      "Please also refer to the documentation for alternative solver options:\n",
      "    https://scikit-learn.org/stable/modules/linear_model.html#logistic-regression\n",
      "  n_iter_i = _check_optimize_result(\n",
      "/Users/riddyokanlawon/opt/anaconda3/lib/python3.8/site-packages/sklearn/utils/validation.py:72: DataConversionWarning: A column-vector y was passed when a 1d array was expected. Please change the shape of y to (n_samples, ), for example using ravel().\n",
      "  return f(**kwargs)\n",
      "/Users/riddyokanlawon/opt/anaconda3/lib/python3.8/site-packages/sklearn/linear_model/_logistic.py:762: ConvergenceWarning: lbfgs failed to converge (status=1):\n",
      "STOP: TOTAL NO. of ITERATIONS REACHED LIMIT.\n",
      "\n",
      "Increase the number of iterations (max_iter) or scale the data as shown in:\n",
      "    https://scikit-learn.org/stable/modules/preprocessing.html\n",
      "Please also refer to the documentation for alternative solver options:\n",
      "    https://scikit-learn.org/stable/modules/linear_model.html#logistic-regression\n",
      "  n_iter_i = _check_optimize_result(\n",
      "/Users/riddyokanlawon/opt/anaconda3/lib/python3.8/site-packages/sklearn/utils/validation.py:72: DataConversionWarning: A column-vector y was passed when a 1d array was expected. Please change the shape of y to (n_samples, ), for example using ravel().\n",
      "  return f(**kwargs)\n",
      "/Users/riddyokanlawon/opt/anaconda3/lib/python3.8/site-packages/sklearn/linear_model/_logistic.py:762: ConvergenceWarning: lbfgs failed to converge (status=1):\n",
      "STOP: TOTAL NO. of ITERATIONS REACHED LIMIT.\n",
      "\n",
      "Increase the number of iterations (max_iter) or scale the data as shown in:\n",
      "    https://scikit-learn.org/stable/modules/preprocessing.html\n",
      "Please also refer to the documentation for alternative solver options:\n",
      "    https://scikit-learn.org/stable/modules/linear_model.html#logistic-regression\n",
      "  n_iter_i = _check_optimize_result(\n",
      "/Users/riddyokanlawon/opt/anaconda3/lib/python3.8/site-packages/sklearn/utils/validation.py:72: DataConversionWarning: A column-vector y was passed when a 1d array was expected. Please change the shape of y to (n_samples, ), for example using ravel().\n",
      "  return f(**kwargs)\n",
      "/Users/riddyokanlawon/opt/anaconda3/lib/python3.8/site-packages/sklearn/linear_model/_logistic.py:762: ConvergenceWarning: lbfgs failed to converge (status=1):\n",
      "STOP: TOTAL NO. of ITERATIONS REACHED LIMIT.\n",
      "\n",
      "Increase the number of iterations (max_iter) or scale the data as shown in:\n",
      "    https://scikit-learn.org/stable/modules/preprocessing.html\n",
      "Please also refer to the documentation for alternative solver options:\n",
      "    https://scikit-learn.org/stable/modules/linear_model.html#logistic-regression\n",
      "  n_iter_i = _check_optimize_result(\n",
      "/Users/riddyokanlawon/opt/anaconda3/lib/python3.8/site-packages/sklearn/utils/validation.py:72: DataConversionWarning: A column-vector y was passed when a 1d array was expected. Please change the shape of y to (n_samples, ), for example using ravel().\n",
      "  return f(**kwargs)\n"
     ]
    },
    {
     "name": "stdout",
     "output_type": "stream",
     "text": [
      "Column: 0, Selected False, Rank: 5.000\n",
      "Column: 1, Selected True, Rank: 1.000\n",
      "Column: 2, Selected False, Rank: 16.000\n",
      "Column: 3, Selected True, Rank: 1.000\n",
      "Column: 4, Selected False, Rank: 2.000\n",
      "Column: 5, Selected True, Rank: 1.000\n",
      "Column: 6, Selected True, Rank: 1.000\n",
      "Column: 7, Selected True, Rank: 1.000\n",
      "Column: 8, Selected False, Rank: 7.000\n",
      "Column: 9, Selected False, Rank: 10.000\n",
      "Column: 10, Selected False, Rank: 14.000\n",
      "Column: 11, Selected False, Rank: 15.000\n",
      "Column: 12, Selected False, Rank: 9.000\n",
      "Column: 13, Selected False, Rank: 6.000\n",
      "Column: 14, Selected False, Rank: 8.000\n",
      "Column: 15, Selected False, Rank: 11.000\n",
      "Column: 16, Selected False, Rank: 13.000\n",
      "Column: 17, Selected False, Rank: 4.000\n",
      "Column: 18, Selected False, Rank: 3.000\n",
      "Column: 19, Selected False, Rank: 12.000\n"
     ]
    },
    {
     "name": "stderr",
     "output_type": "stream",
     "text": [
      "/Users/riddyokanlawon/opt/anaconda3/lib/python3.8/site-packages/sklearn/linear_model/_logistic.py:762: ConvergenceWarning: lbfgs failed to converge (status=1):\n",
      "STOP: TOTAL NO. of ITERATIONS REACHED LIMIT.\n",
      "\n",
      "Increase the number of iterations (max_iter) or scale the data as shown in:\n",
      "    https://scikit-learn.org/stable/modules/preprocessing.html\n",
      "Please also refer to the documentation for alternative solver options:\n",
      "    https://scikit-learn.org/stable/modules/linear_model.html#logistic-regression\n",
      "  n_iter_i = _check_optimize_result(\n"
     ]
    }
   ],
   "source": [
    "# report which features were selected by RFE\n",
    "# define RFE\n",
    "from sklearn.feature_selection import RFE\n",
    "rfe2 = RFE(estimator = logreg, n_features_to_select = 5)\n",
    "# fit RFE\n",
    "rfe2.fit(X_train, y_train)\n",
    "# summarize all features\n",
    "for i in range(X.shape[1]):\n",
    "    print('Column: %d, Selected %s, Rank: %.3f' % (i, rfe.support_[i], rfe.ranking_[i]))"
   ]
  },
  {
   "cell_type": "markdown",
   "metadata": {},
   "source": [
    "For the logistic regression model, the most important features are 'miles', 'order_origin_weight', 'origin_dat_ref', 'dest_dat_ref'.\n",
    "This is similar to the random forest model as well."
   ]
  },
  {
   "cell_type": "markdown",
   "metadata": {},
   "source": [
    "Overfitting happens when a model performs well on training set but not on a test set. Some of the reasons why our models might have overfit is we have outliers in the data points that we did not account for which makes the data noisy. Random forest is also known to overfit models. We can reduce overfitting by plotting training and validation loss so that we know to converge our model earlier."
   ]
  },
  {
   "cell_type": "markdown",
   "metadata": {},
   "source": [
    "# Context and critical reflection"
   ]
  },
  {
   "cell_type": "markdown",
   "metadata": {},
   "source": [
    "I would like to know if the data outcome cares about the individual 'CurrentCondition' categories like 'Withdrawn' or 'Canceled'. If not, I can categorize all non-acceptance as rejection and see if my models perform any better.<br>\n",
    "Also, a better context on the missing values would help in better handling them. Instead of just dropping all rows with missing values, we could do data imputation given better understanding of business/problem context."
   ]
  },
  {
   "cell_type": "markdown",
   "metadata": {},
   "source": [
    "To better address the question, I would: <br>\n",
    "1. Derive new features to improve the feature set. e.g. derive one based on cost of shipment and miles. <br>\n",
    "2. Perform more EDA to see relationships between acceptance and destination vs origin. <br>\n",
    "3. Hypothesis testing (one-sample t-test) to see if the distribution of the categories and see if my assumptions are confirmed. <br>\n",
    "4. To improve performance of my models, I will perform cross-validation for logistic regression."
   ]
  }
 ],
 "metadata": {
  "kernelspec": {
   "display_name": "Python 3",
   "language": "python",
   "name": "python3"
  },
  "language_info": {
   "codemirror_mode": {
    "name": "ipython",
    "version": 3
   },
   "file_extension": ".py",
   "mimetype": "text/x-python",
   "name": "python",
   "nbconvert_exporter": "python",
   "pygments_lexer": "ipython3",
   "version": "3.8.5"
  }
 },
 "nbformat": 4,
 "nbformat_minor": 4
}
